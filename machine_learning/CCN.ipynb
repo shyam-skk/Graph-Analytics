{
 "cells": [
  {
   "cell_type": "code",
   "execution_count": 1,
   "metadata": {},
   "outputs": [],
   "source": [
    "import numpy as np \n",
    "import pandas as pd \n",
    "from matplotlib import pyplot as plt \n",
    "from sklearn.model_selection import train_test_split "
   ]
  },
  {
   "cell_type": "code",
   "execution_count": 2,
   "metadata": {},
   "outputs": [
    {
     "data": {
      "text/html": [
       "<div>\n",
       "<style scoped>\n",
       "    .dataframe tbody tr th:only-of-type {\n",
       "        vertical-align: middle;\n",
       "    }\n",
       "\n",
       "    .dataframe tbody tr th {\n",
       "        vertical-align: top;\n",
       "    }\n",
       "\n",
       "    .dataframe thead th {\n",
       "        text-align: right;\n",
       "    }\n",
       "</style>\n",
       "<table border=\"1\" class=\"dataframe\">\n",
       "  <thead>\n",
       "    <tr style=\"text-align: right;\">\n",
       "      <th></th>\n",
       "      <th>sales_enquiry_id</th>\n",
       "      <th>Product</th>\n",
       "      <th>Seller</th>\n",
       "      <th>Authority</th>\n",
       "      <th>Comp_size</th>\n",
       "      <th>Competitors</th>\n",
       "      <th>Purch_dept</th>\n",
       "      <th>Partnership</th>\n",
       "      <th>Budgt_alloc</th>\n",
       "      <th>Forml_tend</th>\n",
       "      <th>...</th>\n",
       "      <th>Source</th>\n",
       "      <th>Client</th>\n",
       "      <th>Scope</th>\n",
       "      <th>Strat_deal</th>\n",
       "      <th>Cross_sale</th>\n",
       "      <th>Up_sale</th>\n",
       "      <th>Deal_type</th>\n",
       "      <th>Needs_def</th>\n",
       "      <th>Att_t_client</th>\n",
       "      <th>Status</th>\n",
       "    </tr>\n",
       "  </thead>\n",
       "  <tbody>\n",
       "    <tr>\n",
       "      <th>0</th>\n",
       "      <td>id-1001</td>\n",
       "      <td>Product A</td>\n",
       "      <td>Seller 6</td>\n",
       "      <td>Mid</td>\n",
       "      <td>Mid</td>\n",
       "      <td>No</td>\n",
       "      <td>Unknown</td>\n",
       "      <td>No</td>\n",
       "      <td>Yes</td>\n",
       "      <td>No</td>\n",
       "      <td>...</td>\n",
       "      <td>Referral</td>\n",
       "      <td>Current</td>\n",
       "      <td>Clear</td>\n",
       "      <td>Very important</td>\n",
       "      <td>No</td>\n",
       "      <td>Yes</td>\n",
       "      <td>Project</td>\n",
       "      <td>Yes</td>\n",
       "      <td>Strategic account</td>\n",
       "      <td>Won</td>\n",
       "    </tr>\n",
       "    <tr>\n",
       "      <th>1</th>\n",
       "      <td>id-1002</td>\n",
       "      <td>Product B</td>\n",
       "      <td>Seller 8</td>\n",
       "      <td>Mid</td>\n",
       "      <td>Big</td>\n",
       "      <td>No</td>\n",
       "      <td>Yes</td>\n",
       "      <td>No</td>\n",
       "      <td>Unknown</td>\n",
       "      <td>No</td>\n",
       "      <td>...</td>\n",
       "      <td>Referral</td>\n",
       "      <td>Current</td>\n",
       "      <td>Clear</td>\n",
       "      <td>Unimportant</td>\n",
       "      <td>No</td>\n",
       "      <td>Yes</td>\n",
       "      <td>Maintenance</td>\n",
       "      <td>Yes</td>\n",
       "      <td>Strategic account</td>\n",
       "      <td>Won</td>\n",
       "    </tr>\n",
       "    <tr>\n",
       "      <th>2</th>\n",
       "      <td>id-1003</td>\n",
       "      <td>Product F</td>\n",
       "      <td>Seller 1</td>\n",
       "      <td>Mid</td>\n",
       "      <td>Big</td>\n",
       "      <td>No</td>\n",
       "      <td>No</td>\n",
       "      <td>Yes</td>\n",
       "      <td>No</td>\n",
       "      <td>No</td>\n",
       "      <td>...</td>\n",
       "      <td>Joint past</td>\n",
       "      <td>Current</td>\n",
       "      <td>Few questions</td>\n",
       "      <td>Average important</td>\n",
       "      <td>Yes</td>\n",
       "      <td>No</td>\n",
       "      <td>Project</td>\n",
       "      <td>Info gathering</td>\n",
       "      <td>Strategic account</td>\n",
       "      <td>Won</td>\n",
       "    </tr>\n",
       "    <tr>\n",
       "      <th>3</th>\n",
       "      <td>id-1004</td>\n",
       "      <td>Product B</td>\n",
       "      <td>Seller 8</td>\n",
       "      <td>Mid</td>\n",
       "      <td>Big</td>\n",
       "      <td>No</td>\n",
       "      <td>Yes</td>\n",
       "      <td>No</td>\n",
       "      <td>No</td>\n",
       "      <td>No</td>\n",
       "      <td>...</td>\n",
       "      <td>Joint past</td>\n",
       "      <td>Current</td>\n",
       "      <td>Clear</td>\n",
       "      <td>Very important</td>\n",
       "      <td>No</td>\n",
       "      <td>Yes</td>\n",
       "      <td>Maintenance</td>\n",
       "      <td>Yes</td>\n",
       "      <td>Strategic account</td>\n",
       "      <td>Won</td>\n",
       "    </tr>\n",
       "    <tr>\n",
       "      <th>4</th>\n",
       "      <td>id-1005</td>\n",
       "      <td>Product C</td>\n",
       "      <td>Seller 1</td>\n",
       "      <td>Mid</td>\n",
       "      <td>Small</td>\n",
       "      <td>Unknown</td>\n",
       "      <td>No</td>\n",
       "      <td>No</td>\n",
       "      <td>No</td>\n",
       "      <td>No</td>\n",
       "      <td>...</td>\n",
       "      <td>Unknown</td>\n",
       "      <td>New</td>\n",
       "      <td>Few questions</td>\n",
       "      <td>Average important</td>\n",
       "      <td>No</td>\n",
       "      <td>No</td>\n",
       "      <td>Project</td>\n",
       "      <td>No</td>\n",
       "      <td>Normal</td>\n",
       "      <td>Won</td>\n",
       "    </tr>\n",
       "  </tbody>\n",
       "</table>\n",
       "<p>5 rows × 24 columns</p>\n",
       "</div>"
      ],
      "text/plain": [
       "  sales_enquiry_id    Product    Seller Authority Comp_size Competitors  \\\n",
       "0          id-1001  Product A  Seller 6       Mid       Mid          No   \n",
       "1          id-1002  Product B  Seller 8       Mid       Big          No   \n",
       "2          id-1003  Product F  Seller 1       Mid       Big          No   \n",
       "3          id-1004  Product B  Seller 8       Mid       Big          No   \n",
       "4          id-1005  Product C  Seller 1       Mid     Small     Unknown   \n",
       "\n",
       "  Purch_dept Partnership Budgt_alloc Forml_tend  ...      Source   Client  \\\n",
       "0    Unknown          No         Yes         No  ...    Referral  Current   \n",
       "1        Yes          No     Unknown         No  ...    Referral  Current   \n",
       "2         No         Yes          No         No  ...  Joint past  Current   \n",
       "3        Yes          No          No         No  ...  Joint past  Current   \n",
       "4         No          No          No         No  ...     Unknown      New   \n",
       "\n",
       "           Scope         Strat_deal Cross_sale Up_sale    Deal_type  \\\n",
       "0          Clear     Very important         No     Yes      Project   \n",
       "1          Clear        Unimportant         No     Yes  Maintenance   \n",
       "2  Few questions  Average important        Yes      No      Project   \n",
       "3          Clear     Very important         No     Yes  Maintenance   \n",
       "4  Few questions  Average important         No      No      Project   \n",
       "\n",
       "        Needs_def       Att_t_client Status  \n",
       "0             Yes  Strategic account    Won  \n",
       "1             Yes  Strategic account    Won  \n",
       "2  Info gathering  Strategic account    Won  \n",
       "3             Yes  Strategic account    Won  \n",
       "4              No             Normal    Won  \n",
       "\n",
       "[5 rows x 24 columns]"
      ]
     },
     "execution_count": 2,
     "metadata": {},
     "output_type": "execute_result"
    }
   ],
   "source": [
    "df = pd.read_csv('CRM_new1.csv')\n",
    "df.head()"
   ]
  },
  {
   "cell_type": "code",
   "execution_count": 3,
   "metadata": {},
   "outputs": [
    {
     "name": "stdout",
     "output_type": "stream",
     "text": [
      "<class 'pandas.core.frame.DataFrame'>\n",
      "RangeIndex: 448 entries, 0 to 447\n",
      "Data columns (total 23 columns):\n",
      " #   Column        Non-Null Count  Dtype \n",
      "---  ------        --------------  ----- \n",
      " 0   Product       448 non-null    object\n",
      " 1   Seller        448 non-null    object\n",
      " 2   Authority     448 non-null    object\n",
      " 3   Comp_size     448 non-null    object\n",
      " 4   Competitors   448 non-null    object\n",
      " 5   Purch_dept    448 non-null    object\n",
      " 6   Partnership   448 non-null    object\n",
      " 7   Budgt_alloc   448 non-null    object\n",
      " 8   Forml_tend    448 non-null    object\n",
      " 9   RFI           448 non-null    object\n",
      " 10  RFP           448 non-null    object\n",
      " 11  Growth        448 non-null    object\n",
      " 12  Posit_statm   448 non-null    object\n",
      " 13  Source        448 non-null    object\n",
      " 14  Client        448 non-null    object\n",
      " 15  Scope         448 non-null    object\n",
      " 16  Strat_deal    448 non-null    object\n",
      " 17  Cross_sale    448 non-null    object\n",
      " 18  Up_sale       448 non-null    object\n",
      " 19  Deal_type     448 non-null    object\n",
      " 20  Needs_def     448 non-null    object\n",
      " 21  Att_t_client  448 non-null    object\n",
      " 22  Status        448 non-null    int64 \n",
      "dtypes: int64(1), object(22)\n",
      "memory usage: 80.6+ KB\n"
     ]
    }
   ],
   "source": [
    "data=df\n",
    "data.Status.replace([\"Won\", \"Lost\"], [1, 0], inplace= True)\n",
    "data.drop(\"sales_enquiry_id\", axis= 1, inplace= True)\n",
    "data.info()"
   ]
  },
  {
   "cell_type": "code",
   "execution_count": 4,
   "metadata": {},
   "outputs": [
    {
     "name": "stdout",
     "output_type": "stream",
     "text": [
      "<class 'pandas.core.frame.DataFrame'>\n",
      "RangeIndex: 448 entries, 0 to 447\n",
      "Data columns (total 96 columns):\n",
      " #   Column                          Non-Null Count  Dtype\n",
      "---  ------                          --------------  -----\n",
      " 0   Status                          448 non-null    int64\n",
      " 1   Product_Product A               448 non-null    uint8\n",
      " 2   Product_Product B               448 non-null    uint8\n",
      " 3   Product_Product C               448 non-null    uint8\n",
      " 4   Product_Product D               448 non-null    uint8\n",
      " 5   Product_Product E               448 non-null    uint8\n",
      " 6   Product_Product F               448 non-null    uint8\n",
      " 7   Product_Product G               448 non-null    uint8\n",
      " 8   Product_Product H               448 non-null    uint8\n",
      " 9   Product_Product I               448 non-null    uint8\n",
      " 10  Product_Product J               448 non-null    uint8\n",
      " 11  Product_Product K               448 non-null    uint8\n",
      " 12  Product_Product L               448 non-null    uint8\n",
      " 13  Product_Product N               448 non-null    uint8\n",
      " 14  Product_Product P               448 non-null    uint8\n",
      " 15  Seller_Seller 1                 448 non-null    uint8\n",
      " 16  Seller_Seller 10                448 non-null    uint8\n",
      " 17  Seller_Seller 11                448 non-null    uint8\n",
      " 18  Seller_Seller 12                448 non-null    uint8\n",
      " 19  Seller_Seller 13                448 non-null    uint8\n",
      " 20  Seller_Seller 14                448 non-null    uint8\n",
      " 21  Seller_Seller 15                448 non-null    uint8\n",
      " 22  Seller_Seller 16                448 non-null    uint8\n",
      " 23  Seller_Seller 17                448 non-null    uint8\n",
      " 24  Seller_Seller 2                 448 non-null    uint8\n",
      " 25  Seller_Seller 20                448 non-null    uint8\n",
      " 26  Seller_Seller 3                 448 non-null    uint8\n",
      " 27  Seller_Seller 4                 448 non-null    uint8\n",
      " 28  Seller_Seller 5                 448 non-null    uint8\n",
      " 29  Seller_Seller 6                 448 non-null    uint8\n",
      " 30  Seller_Seller 7                 448 non-null    uint8\n",
      " 31  Seller_Seller 8                 448 non-null    uint8\n",
      " 32  Seller_Seller 9                 448 non-null    uint8\n",
      " 33  Authority_High                  448 non-null    uint8\n",
      " 34  Authority_Low                   448 non-null    uint8\n",
      " 35  Authority_Mid                   448 non-null    uint8\n",
      " 36  Comp_size_Big                   448 non-null    uint8\n",
      " 37  Comp_size_Mid                   448 non-null    uint8\n",
      " 38  Comp_size_Small                 448 non-null    uint8\n",
      " 39  Competitors_No                  448 non-null    uint8\n",
      " 40  Competitors_Unknown             448 non-null    uint8\n",
      " 41  Competitors_Yes                 448 non-null    uint8\n",
      " 42  Purch_dept_No                   448 non-null    uint8\n",
      " 43  Purch_dept_Unknown              448 non-null    uint8\n",
      " 44  Purch_dept_Yes                  448 non-null    uint8\n",
      " 45  Partnership_No                  448 non-null    uint8\n",
      " 46  Partnership_Yes                 448 non-null    uint8\n",
      " 47  Budgt_alloc_No                  448 non-null    uint8\n",
      " 48  Budgt_alloc_Unknown             448 non-null    uint8\n",
      " 49  Budgt_alloc_Yes                 448 non-null    uint8\n",
      " 50  Forml_tend_No                   448 non-null    uint8\n",
      " 51  Forml_tend_Yes                  448 non-null    uint8\n",
      " 52  RFI_No                          448 non-null    uint8\n",
      " 53  RFI_Yes                         448 non-null    uint8\n",
      " 54  RFP_No                          448 non-null    uint8\n",
      " 55  RFP_Yes                         448 non-null    uint8\n",
      " 56  Growth_Growth                   448 non-null    uint8\n",
      " 57  Growth_Slow down                448 non-null    uint8\n",
      " 58  Growth_Stable                   448 non-null    uint8\n",
      " 59  Growth_Unknown                  448 non-null    uint8\n",
      " 60  Posit_statm_Neutral             448 non-null    uint8\n",
      " 61  Posit_statm_No                  448 non-null    uint8\n",
      " 62  Posit_statm_Yes                 448 non-null    uint8\n",
      " 63  Source_Direct mail              448 non-null    uint8\n",
      " 64  Source_Event                    448 non-null    uint8\n",
      " 65  Source_Joint past               448 non-null    uint8\n",
      " 66  Source_Media                    448 non-null    uint8\n",
      " 67  Source_Online form              448 non-null    uint8\n",
      " 68  Source_Other                    448 non-null    uint8\n",
      " 69  Source_Referral                 448 non-null    uint8\n",
      " 70  Source_Unknown                  448 non-null    uint8\n",
      " 71  Client_Current                  448 non-null    uint8\n",
      " 72  Client_New                      448 non-null    uint8\n",
      " 73  Client_Past                     448 non-null    uint8\n",
      " 74  Scope_Clear                     448 non-null    uint8\n",
      " 75  Scope_Few questions             448 non-null    uint8\n",
      " 76  Scope_Low                       448 non-null    uint8\n",
      " 77  Strat_deal_Average important    448 non-null    uint8\n",
      " 78  Strat_deal_Unimportant          448 non-null    uint8\n",
      " 79  Strat_deal_Very important       448 non-null    uint8\n",
      " 80  Cross_sale_No                   448 non-null    uint8\n",
      " 81  Cross_sale_Yes                  448 non-null    uint8\n",
      " 82  Up_sale_No                      448 non-null    uint8\n",
      " 83  Up_sale_Yes                     448 non-null    uint8\n",
      " 84  Deal_type_Consulting            448 non-null    uint8\n",
      " 85  Deal_type_Maintenance           448 non-null    uint8\n",
      " 86  Deal_type_Project               448 non-null    uint8\n",
      " 87  Deal_type_Solution              448 non-null    uint8\n",
      " 88  Needs_def_Info gathering        448 non-null    uint8\n",
      " 89  Needs_def_No                    448 non-null    uint8\n",
      " 90  Needs_def_Poor                  448 non-null    uint8\n",
      " 91  Needs_def_Yes                   448 non-null    uint8\n",
      " 92  Att_t_client_Bad client         448 non-null    uint8\n",
      " 93  Att_t_client_First deal         448 non-null    uint8\n",
      " 94  Att_t_client_Normal             448 non-null    uint8\n",
      " 95  Att_t_client_Strategic account  448 non-null    uint8\n",
      "dtypes: int64(1), uint8(95)\n",
      "memory usage: 45.2 KB\n"
     ]
    }
   ],
   "source": [
    "data = pd.get_dummies(data)\n",
    "data.info()"
   ]
  },
  {
   "cell_type": "code",
   "execution_count": 5,
   "metadata": {},
   "outputs": [],
   "source": [
    "X = data.drop(\"Status\", axis= 1)\n",
    "y = data.Status\n",
    "\n",
    "from sklearn.preprocessing import StandardScaler\n",
    "ss = StandardScaler()\n",
    "X = ss.fit_transform(X)\n",
    "#y_train_onehot = pd.get_dummies(y).values"
   ]
  },
  {
   "cell_type": "code",
   "execution_count": 6,
   "metadata": {},
   "outputs": [],
   "source": [
    "X_train, X_test, y_train, y_test = train_test_split(X, y, test_size= 0.2, random_state= 42)\n",
    "y_train_onehot = pd.get_dummies(y_train).values"
   ]
  },
  {
   "cell_type": "code",
   "execution_count": 8,
   "metadata": {},
   "outputs": [],
   "source": [
    "from keras.models import Sequential\n",
    "from keras.layers import Dense, Activation, Dropout, Convolution2D, MaxPooling2D, Flatten\n",
    "from keras import optimizers\n",
    "from sklearn.preprocessing import StandardScaler\n",
    "import pandas as pd"
   ]
  },
  {
   "cell_type": "code",
   "execution_count": 9,
   "metadata": {},
   "outputs": [],
   "source": [
    "img_rows, img_cols = 19,5\n",
    "nb_filters = 1000\n",
    "pool_size = (1, 1)\n",
    "kernel_size = (1, 1)\n",
    "X_train = X_train.reshape(X_train.shape[0], img_rows, img_cols, 1)\n",
    "X_test = X_test.reshape(X_test.shape[0], img_rows, img_cols, 1)\n",
    "input_shape = (img_rows, img_cols, 1)"
   ]
  },
  {
   "cell_type": "code",
   "execution_count": 10,
   "metadata": {},
   "outputs": [
    {
     "name": "stdout",
     "output_type": "stream",
     "text": [
      "WARNING:tensorflow:From f:\\anaconda3\\envs\\dl1\\lib\\site-packages\\keras\\backend\\tensorflow_backend.py:4070: The name tf.nn.max_pool is deprecated. Please use tf.nn.max_pool2d instead.\n",
      "\n"
     ]
    },
    {
     "name": "stderr",
     "output_type": "stream",
     "text": [
      "f:\\anaconda3\\envs\\dl1\\lib\\site-packages\\ipykernel_launcher.py:4: UserWarning: Update your `Conv2D` call to the Keras 2 API: `Conv2D(1000, (1, 1), input_shape=(19, 5, 1), padding=\"valid\")`\n",
      "  after removing the cwd from sys.path.\n",
      "f:\\anaconda3\\envs\\dl1\\lib\\site-packages\\ipykernel_launcher.py:6: UserWarning: Update your `Conv2D` call to the Keras 2 API: `Conv2D(1000, (1, 1))`\n",
      "  \n"
     ]
    },
    {
     "name": "stdout",
     "output_type": "stream",
     "text": [
      "WARNING:tensorflow:From f:\\anaconda3\\envs\\dl1\\lib\\site-packages\\keras\\backend\\tensorflow_backend.py:422: The name tf.global_variables is deprecated. Please use tf.compat.v1.global_variables instead.\n",
      "\n",
      "Epoch 1/30\n",
      "358/358 [==============================] - 2s 7ms/step - loss: 0.2423 - accuracy: 0.7179\n",
      "Epoch 2/30\n",
      "358/358 [==============================] - 1s 2ms/step - loss: 0.1668 - accuracy: 0.7737\n",
      "Epoch 3/30\n",
      "358/358 [==============================] - 1s 2ms/step - loss: 0.1581 - accuracy: 0.7961\n",
      "Epoch 4/30\n",
      "358/358 [==============================] - 1s 2ms/step - loss: 0.1614 - accuracy: 0.7542\n",
      "Epoch 5/30\n",
      "358/358 [==============================] - 1s 2ms/step - loss: 0.1499 - accuracy: 0.7933\n",
      "Epoch 6/30\n",
      "358/358 [==============================] - 1s 2ms/step - loss: 0.1490 - accuracy: 0.7849\n",
      "Epoch 7/30\n",
      "358/358 [==============================] - 1s 2ms/step - loss: 0.1508 - accuracy: 0.7849\n",
      "Epoch 8/30\n",
      "358/358 [==============================] - 1s 2ms/step - loss: 0.1463 - accuracy: 0.7989\n",
      "Epoch 9/30\n",
      "358/358 [==============================] - 1s 2ms/step - loss: 0.1435 - accuracy: 0.8017\n",
      "Epoch 10/30\n",
      "358/358 [==============================] - 1s 2ms/step - loss: 0.1403 - accuracy: 0.8156\n",
      "Epoch 11/30\n",
      "358/358 [==============================] - 1s 2ms/step - loss: 0.1423 - accuracy: 0.8212\n",
      "Epoch 12/30\n",
      "358/358 [==============================] - 1s 2ms/step - loss: 0.1435 - accuracy: 0.8268\n",
      "Epoch 13/30\n",
      "358/358 [==============================] - 1s 2ms/step - loss: 0.1367 - accuracy: 0.8268\n",
      "Epoch 14/30\n",
      "358/358 [==============================] - 1s 2ms/step - loss: 0.1448 - accuracy: 0.7933\n",
      "Epoch 15/30\n",
      "358/358 [==============================] - 1s 2ms/step - loss: 0.1376 - accuracy: 0.8017\n",
      "Epoch 16/30\n",
      "358/358 [==============================] - 1s 2ms/step - loss: 0.1324 - accuracy: 0.8268\n",
      "Epoch 17/30\n",
      "358/358 [==============================] - 1s 2ms/step - loss: 0.1373 - accuracy: 0.8184\n",
      "Epoch 18/30\n",
      "358/358 [==============================] - 1s 2ms/step - loss: 0.1348 - accuracy: 0.8128\n",
      "Epoch 19/30\n",
      "358/358 [==============================] - 1s 2ms/step - loss: 0.1365 - accuracy: 0.8045\n",
      "Epoch 20/30\n",
      "358/358 [==============================] - 1s 2ms/step - loss: 0.1298 - accuracy: 0.8352\n",
      "Epoch 21/30\n",
      "358/358 [==============================] - 1s 2ms/step - loss: 0.1308 - accuracy: 0.8240\n",
      "Epoch 22/30\n",
      "358/358 [==============================] - 1s 2ms/step - loss: 0.1286 - accuracy: 0.8352\n",
      "Epoch 23/30\n",
      "358/358 [==============================] - 1s 2ms/step - loss: 0.1259 - accuracy: 0.8324\n",
      "Epoch 24/30\n",
      "358/358 [==============================] - 1s 2ms/step - loss: 0.1289 - accuracy: 0.8212\n",
      "Epoch 25/30\n",
      "358/358 [==============================] - 1s 2ms/step - loss: 0.1274 - accuracy: 0.8240\n",
      "Epoch 26/30\n",
      "358/358 [==============================] - 1s 2ms/step - loss: 0.1229 - accuracy: 0.8408\n",
      "Epoch 27/30\n",
      "358/358 [==============================] - 1s 2ms/step - loss: 0.1170 - accuracy: 0.8492\n",
      "Epoch 28/30\n",
      "358/358 [==============================] - 1s 2ms/step - loss: 0.1119 - accuracy: 0.8464\n",
      "Epoch 29/30\n",
      "358/358 [==============================] - 1s 2ms/step - loss: 0.1106 - accuracy: 0.8575\n",
      "Epoch 30/30\n",
      "358/358 [==============================] - 1s 2ms/step - loss: 0.1049 - accuracy: 0.8575\n"
     ]
    },
    {
     "data": {
      "text/plain": [
       "<keras.callbacks.callbacks.History at 0x1eb9588fb00>"
      ]
     },
     "execution_count": 10,
     "metadata": {},
     "output_type": "execute_result"
    }
   ],
   "source": [
    "model = Sequential()\n",
    "model.add(Convolution2D(nb_filters, kernel_size[0], kernel_size[1],\n",
    "                        border_mode='valid',\n",
    "                        input_shape=input_shape))\n",
    "model.add(Activation('relu'))\n",
    "model.add(Convolution2D(nb_filters, kernel_size[0], kernel_size[1]))\n",
    "model.add(Activation('relu'))\n",
    "model.add(MaxPooling2D(pool_size=pool_size))\n",
    "model.add(Dropout(0.25))\n",
    "model.add(Flatten())\n",
    "model.add(Dense(128))\n",
    "model.add(Activation('tanh'))\n",
    "model.add(Dropout(0.25))\n",
    "model.add(Dense(2))\n",
    "model.add(Activation('sigmoid'))\n",
    "model.compile(loss='mean_squared_error', optimizer='Nadam', metrics=['accuracy'])\n",
    "model.fit(X_train, y_train_onehot, epochs=30)"
   ]
  },
  {
   "cell_type": "code",
   "execution_count": 11,
   "metadata": {},
   "outputs": [],
   "source": [
    "y_pred = model.predict(X_test)"
   ]
  },
  {
   "cell_type": "code",
   "execution_count": 12,
   "metadata": {},
   "outputs": [
    {
     "data": {
      "text/plain": [
       "array([[0.91033185, 0.08828321],\n",
       "       [0.00323728, 0.99837327],\n",
       "       [0.98002243, 0.01525208],\n",
       "       [0.17234552, 0.84217525],\n",
       "       [0.06530043, 0.87086123],\n",
       "       [0.03640535, 0.95275253],\n",
       "       [0.05626437, 0.9326451 ],\n",
       "       [0.9180448 , 0.1928089 ],\n",
       "       [0.07578048, 0.8751327 ],\n",
       "       [0.96324825, 0.02195799],\n",
       "       [0.08821312, 0.87911195],\n",
       "       [0.798784  , 0.1565766 ],\n",
       "       [0.06604454, 0.92642635],\n",
       "       [0.349297  , 0.5440045 ],\n",
       "       [0.12017325, 0.8738272 ],\n",
       "       [0.02748045, 0.95053375],\n",
       "       [0.0033949 , 0.9983566 ],\n",
       "       [0.85396886, 0.1137656 ],\n",
       "       [0.38046896, 0.18524304],\n",
       "       [0.98408246, 0.00943354],\n",
       "       [0.02067515, 0.9791614 ],\n",
       "       [0.00628328, 0.9970248 ],\n",
       "       [0.00459871, 0.99354887],\n",
       "       [0.11122158, 0.94197875],\n",
       "       [0.99598324, 0.0042302 ],\n",
       "       [0.79041016, 0.20683831],\n",
       "       [0.22714257, 0.7228732 ],\n",
       "       [0.97908604, 0.01459235],\n",
       "       [0.06604454, 0.92642635],\n",
       "       [0.30345106, 0.9052961 ],\n",
       "       [0.02944744, 0.9622023 ],\n",
       "       [0.6240337 , 0.15926555],\n",
       "       [0.9977546 , 0.0029051 ],\n",
       "       [0.08261415, 0.89560807],\n",
       "       [0.10136962, 0.8777541 ],\n",
       "       [0.00323728, 0.99837327],\n",
       "       [0.57002187, 0.26603127],\n",
       "       [0.98408246, 0.00943354],\n",
       "       [0.60129714, 0.43800956],\n",
       "       [0.9630575 , 0.01506707],\n",
       "       [0.02849972, 0.96844846],\n",
       "       [0.9932586 , 0.00537884],\n",
       "       [0.63300544, 0.3798451 ],\n",
       "       [0.99691653, 0.00411221],\n",
       "       [0.15524054, 0.86741173],\n",
       "       [0.5778133 , 0.12746665],\n",
       "       [0.09079587, 0.92038083],\n",
       "       [0.17461333, 0.7711381 ],\n",
       "       [0.92607605, 0.01745117],\n",
       "       [0.53615534, 0.7166542 ],\n",
       "       [0.99104524, 0.004031  ],\n",
       "       [0.11690649, 0.8851753 ],\n",
       "       [0.05265865, 0.9606639 ],\n",
       "       [0.610508  , 0.37964955],\n",
       "       [0.02587414, 0.87744313],\n",
       "       [0.574411  , 0.03648192],\n",
       "       [0.50673616, 0.70533526],\n",
       "       [0.9964682 , 0.00201374],\n",
       "       [0.00326243, 0.99499285],\n",
       "       [0.01444843, 0.97955513],\n",
       "       [0.8715656 , 0.16156158],\n",
       "       [0.03939003, 0.9719901 ],\n",
       "       [0.7497902 , 0.20282626],\n",
       "       [0.1908448 , 0.70723164],\n",
       "       [0.98198533, 0.02163401],\n",
       "       [0.03677315, 0.94076806],\n",
       "       [0.30674088, 0.6327385 ],\n",
       "       [0.8517163 , 0.1519441 ],\n",
       "       [0.3055513 , 0.8795968 ],\n",
       "       [0.8082456 , 0.20790115],\n",
       "       [0.22582927, 0.76276004],\n",
       "       [0.16328213, 0.86395377],\n",
       "       [0.99592954, 0.00212875],\n",
       "       [0.05870703, 0.9472932 ],\n",
       "       [0.9716419 , 0.03119865],\n",
       "       [0.9610292 , 0.04817393],\n",
       "       [0.99681425, 0.00217107],\n",
       "       [0.94873905, 0.03262082],\n",
       "       [0.5776078 , 0.2621879 ],\n",
       "       [0.6977543 , 0.20249835],\n",
       "       [0.9791026 , 0.02094236],\n",
       "       [0.10629442, 0.9270299 ],\n",
       "       [0.1908448 , 0.70723164],\n",
       "       [0.15891922, 0.72654384],\n",
       "       [0.996487  , 0.00405681],\n",
       "       [0.96827966, 0.02544466],\n",
       "       [0.36477023, 0.80039465],\n",
       "       [0.82993686, 0.16145986],\n",
       "       [0.94452834, 0.04828238],\n",
       "       [0.26119483, 0.84426045]], dtype=float32)"
      ]
     },
     "execution_count": 12,
     "metadata": {},
     "output_type": "execute_result"
    }
   ],
   "source": [
    "y_pred"
   ]
  },
  {
   "cell_type": "code",
   "execution_count": 13,
   "metadata": {},
   "outputs": [
    {
     "name": "stdout",
     "output_type": "stream",
     "text": [
      "(90, 2)\n"
     ]
    }
   ],
   "source": [
    "print(y_pred.shape)"
   ]
  },
  {
   "cell_type": "code",
   "execution_count": 14,
   "metadata": {},
   "outputs": [
    {
     "data": {
      "text/plain": [
       "array([ True, False])"
      ]
     },
     "execution_count": 14,
     "metadata": {},
     "output_type": "execute_result"
    }
   ],
   "source": [
    "y_pred = (y_pred > 0.5)\n",
    "y_pred[0]"
   ]
  },
  {
   "cell_type": "code",
   "execution_count": 15,
   "metadata": {},
   "outputs": [],
   "source": [
    "y_pred1=y_pred[:,1]"
   ]
  },
  {
   "cell_type": "code",
   "execution_count": 16,
   "metadata": {},
   "outputs": [
    {
     "data": {
      "text/plain": [
       "array([[35,  9],\n",
       "       [ 8, 38]], dtype=int64)"
      ]
     },
     "execution_count": 16,
     "metadata": {},
     "output_type": "execute_result"
    }
   ],
   "source": [
    "from sklearn.metrics import confusion_matrix\n",
    "cm = confusion_matrix(y_test, y_pred1)\n",
    "cm"
   ]
  },
  {
   "cell_type": "code",
   "execution_count": 17,
   "metadata": {},
   "outputs": [],
   "source": [
    "from sklearn.datasets import make_classification\n",
    "from sklearn.metrics import roc_curve\n",
    "from sklearn.metrics import roc_auc_score\n",
    "from matplotlib import pyplot\n",
    "from sklearn.metrics import precision_recall_curve\n",
    "from sklearn.metrics import f1_score\n",
    "from sklearn.metrics import auc\n",
    "\n",
    "import numpy as np \n",
    "import pandas as pd \n",
    "from matplotlib import pyplot as plt \n",
    "from sklearn.model_selection import train_test_split \n",
    "import keras \n",
    "from keras.models import Sequential \n",
    "from keras.layers import InputLayer \n",
    "from keras.layers import Dense \n",
    "from keras.layers import Dropout \n",
    "from keras.constraints import maxnorm\n",
    "from sklearn.ensemble import RandomForestClassifier, RandomForestRegressor\n",
    "from sklearn.metrics import classification_report, confusion_matrix, accuracy_score"
   ]
  },
  {
   "cell_type": "code",
   "execution_count": 18,
   "metadata": {},
   "outputs": [
    {
     "name": "stdout",
     "output_type": "stream",
     "text": [
      "              precision    recall  f1-score   support\n",
      "\n",
      "           0       0.81      0.80      0.80        44\n",
      "           1       0.81      0.83      0.82        46\n",
      "\n",
      "    accuracy                           0.81        90\n",
      "   macro avg       0.81      0.81      0.81        90\n",
      "weighted avg       0.81      0.81      0.81        90\n",
      "\n"
     ]
    }
   ],
   "source": [
    "print(classification_report(y_test, y_pred1))"
   ]
  },
  {
   "cell_type": "code",
   "execution_count": 19,
   "metadata": {},
   "outputs": [
    {
     "data": {
      "image/png": "[encoded data removed]",
      "text/plain": [
       "<Figure size 432x288 with 1 Axes>"
      ]
     },
     "metadata": {
      "needs_background": "light"
     },
     "output_type": "display_data"
    }
   ],
   "source": [
    "lr_fpr, lr_tpr, _ = roc_curve(y_test,y_pred1)\n",
    "# plot the roc curve for the model\n",
    "#pyplot.plot(ns_fpr, ns_tpr, linestyle='--', label='No Skill')\n",
    "pyplot.plot(lr_fpr, lr_tpr, marker='.', label='ANN-test')\n",
    "# axis labels\n",
    "pyplot.xlabel('False Positive Rate')\n",
    "pyplot.ylabel('True Positive Rate')\n",
    "# show the legend\n",
    "pyplot.legend()\n",
    "# show the plot\n",
    "pyplot.show()"
   ]
  },
  {
   "cell_type": "code",
   "execution_count": 20,
   "metadata": {},
   "outputs": [
    {
     "data": {
      "image/png": "[encoded data removed]",
      "text/plain": [
       "<Figure size 432x288 with 1 Axes>"
      ]
     },
     "metadata": {
      "needs_background": "light"
     },
     "output_type": "display_data"
    }
   ],
   "source": [
    "precision, recall, thresholds = precision_recall_curve(y_test,y_pred1)\n",
    "pyplot.plot(recall, precision, marker='.', label='ANN-test')\n",
    "# axis labels\n",
    "pyplot.xlabel('Recall')\n",
    "pyplot.ylabel('Precision')\n",
    "# show the legend\n",
    "pyplot.legend()\n",
    "# show the plot\n",
    "pyplot.show()"
   ]
  }
 ],
 "metadata": {
  "kernelspec": {
   "display_name": "Python 3",
   "language": "python",
   "name": "python3"
  },
  "language_info": {
   "codemirror_mode": {
    "name": "ipython",
    "version": 3
   },
   "file_extension": ".py",
   "mimetype": "text/x-python",
   "name": "python",
   "nbconvert_exporter": "python",
   "pygments_lexer": "ipython3",
   "version": "3.6.10"
  }
 },
 "nbformat": 4,
 "nbformat_minor": 4
}
