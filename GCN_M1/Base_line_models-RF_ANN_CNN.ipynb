{
 "cells": [
  {
   "cell_type": "code",
   "execution_count": 61,
   "metadata": {},
   "outputs": [],
   "source": [
    "import numpy as np \n",
    "import pandas as pd \n",
    "from matplotlib import pyplot as plt \n",
    "from sklearn.model_selection import train_test_split \n",
    "import keras \n",
    "from keras.models import Sequential \n",
    "from keras.layers import InputLayer \n",
    "from keras.layers import Dense \n",
    "from keras.layers import Dropout \n",
    "from keras.constraints import maxnorm\n",
    "from sklearn.ensemble import RandomForestClassifier, RandomForestRegressor\n",
    "from sklearn.metrics import classification_report, confusion_matrix, accuracy_score"
   ]
  },
  {
   "cell_type": "code",
   "execution_count": 62,
   "metadata": {},
   "outputs": [],
   "source": [
    "from sklearn.datasets import make_classification\n",
    "from sklearn.metrics import roc_curve\n",
    "from sklearn.metrics import roc_auc_score\n",
    "from matplotlib import pyplot\n",
    "from sklearn.metrics import precision_recall_curve\n",
    "from sklearn.metrics import f1_score\n",
    "from sklearn.metrics import auc\n",
    "import scikitplot as skplt\n",
    "import matplotlib.pyplot as plt"
   ]
  },
  {
   "cell_type": "code",
   "execution_count": 162,
   "metadata": {},
   "outputs": [],
   "source": [
    "from keras.models import Sequential\n",
    "from keras.layers import Dense, Activation, Dropout, Convolution2D, MaxPooling2D, Flatten\n",
    "from keras import optimizers\n",
    "from sklearn.preprocessing import StandardScaler\n",
    "import pandas as pd"
   ]
  },
  {
   "cell_type": "code",
   "execution_count": 63,
   "metadata": {},
   "outputs": [
    {
     "data": {
      "text/html": [
       "<div>\n",
       "<style scoped>\n",
       "    .dataframe tbody tr th:only-of-type {\n",
       "        vertical-align: middle;\n",
       "    }\n",
       "\n",
       "    .dataframe tbody tr th {\n",
       "        vertical-align: top;\n",
       "    }\n",
       "\n",
       "    .dataframe thead th {\n",
       "        text-align: right;\n",
       "    }\n",
       "</style>\n",
       "<table border=\"1\" class=\"dataframe\">\n",
       "  <thead>\n",
       "    <tr style=\"text-align: right;\">\n",
       "      <th></th>\n",
       "      <th>sales_enquiry_id</th>\n",
       "      <th>Product</th>\n",
       "      <th>Seller</th>\n",
       "      <th>Authority</th>\n",
       "      <th>Comp_size</th>\n",
       "      <th>Competitors</th>\n",
       "      <th>Purch_dept</th>\n",
       "      <th>Partnership</th>\n",
       "      <th>Budgt_alloc</th>\n",
       "      <th>Forml_tend</th>\n",
       "      <th>...</th>\n",
       "      <th>Source</th>\n",
       "      <th>Client</th>\n",
       "      <th>Scope</th>\n",
       "      <th>Strat_deal</th>\n",
       "      <th>Cross_sale</th>\n",
       "      <th>Up_sale</th>\n",
       "      <th>Deal_type</th>\n",
       "      <th>Needs_def</th>\n",
       "      <th>Att_t_client</th>\n",
       "      <th>Status</th>\n",
       "    </tr>\n",
       "  </thead>\n",
       "  <tbody>\n",
       "    <tr>\n",
       "      <th>0</th>\n",
       "      <td>id-1001</td>\n",
       "      <td>Product A</td>\n",
       "      <td>Seller 6</td>\n",
       "      <td>Mid</td>\n",
       "      <td>Mid</td>\n",
       "      <td>No</td>\n",
       "      <td>Unknown</td>\n",
       "      <td>No</td>\n",
       "      <td>Yes</td>\n",
       "      <td>No</td>\n",
       "      <td>...</td>\n",
       "      <td>Referral</td>\n",
       "      <td>Current</td>\n",
       "      <td>Clear</td>\n",
       "      <td>Very important</td>\n",
       "      <td>No</td>\n",
       "      <td>Yes</td>\n",
       "      <td>Project</td>\n",
       "      <td>Yes</td>\n",
       "      <td>Strategic account</td>\n",
       "      <td>Won</td>\n",
       "    </tr>\n",
       "    <tr>\n",
       "      <th>1</th>\n",
       "      <td>id-1002</td>\n",
       "      <td>Product B</td>\n",
       "      <td>Seller 8</td>\n",
       "      <td>Mid</td>\n",
       "      <td>Big</td>\n",
       "      <td>No</td>\n",
       "      <td>Yes</td>\n",
       "      <td>No</td>\n",
       "      <td>Unknown</td>\n",
       "      <td>No</td>\n",
       "      <td>...</td>\n",
       "      <td>Referral</td>\n",
       "      <td>Current</td>\n",
       "      <td>Clear</td>\n",
       "      <td>Unimportant</td>\n",
       "      <td>No</td>\n",
       "      <td>Yes</td>\n",
       "      <td>Maintenance</td>\n",
       "      <td>Yes</td>\n",
       "      <td>Strategic account</td>\n",
       "      <td>Won</td>\n",
       "    </tr>\n",
       "    <tr>\n",
       "      <th>2</th>\n",
       "      <td>id-1003</td>\n",
       "      <td>Product F</td>\n",
       "      <td>Seller 1</td>\n",
       "      <td>Mid</td>\n",
       "      <td>Big</td>\n",
       "      <td>No</td>\n",
       "      <td>No</td>\n",
       "      <td>Yes</td>\n",
       "      <td>No</td>\n",
       "      <td>No</td>\n",
       "      <td>...</td>\n",
       "      <td>Joint past</td>\n",
       "      <td>Current</td>\n",
       "      <td>Few questions</td>\n",
       "      <td>Average important</td>\n",
       "      <td>Yes</td>\n",
       "      <td>No</td>\n",
       "      <td>Project</td>\n",
       "      <td>Info gathering</td>\n",
       "      <td>Strategic account</td>\n",
       "      <td>Won</td>\n",
       "    </tr>\n",
       "    <tr>\n",
       "      <th>3</th>\n",
       "      <td>id-1004</td>\n",
       "      <td>Product B</td>\n",
       "      <td>Seller 8</td>\n",
       "      <td>Mid</td>\n",
       "      <td>Big</td>\n",
       "      <td>No</td>\n",
       "      <td>Yes</td>\n",
       "      <td>No</td>\n",
       "      <td>No</td>\n",
       "      <td>No</td>\n",
       "      <td>...</td>\n",
       "      <td>Joint past</td>\n",
       "      <td>Current</td>\n",
       "      <td>Clear</td>\n",
       "      <td>Very important</td>\n",
       "      <td>No</td>\n",
       "      <td>Yes</td>\n",
       "      <td>Maintenance</td>\n",
       "      <td>Yes</td>\n",
       "      <td>Strategic account</td>\n",
       "      <td>Won</td>\n",
       "    </tr>\n",
       "    <tr>\n",
       "      <th>4</th>\n",
       "      <td>id-1005</td>\n",
       "      <td>Product C</td>\n",
       "      <td>Seller 1</td>\n",
       "      <td>Mid</td>\n",
       "      <td>Small</td>\n",
       "      <td>Unknown</td>\n",
       "      <td>No</td>\n",
       "      <td>No</td>\n",
       "      <td>No</td>\n",
       "      <td>No</td>\n",
       "      <td>...</td>\n",
       "      <td>Unknown</td>\n",
       "      <td>New</td>\n",
       "      <td>Few questions</td>\n",
       "      <td>Average important</td>\n",
       "      <td>No</td>\n",
       "      <td>No</td>\n",
       "      <td>Project</td>\n",
       "      <td>No</td>\n",
       "      <td>Normal</td>\n",
       "      <td>Won</td>\n",
       "    </tr>\n",
       "  </tbody>\n",
       "</table>\n",
       "<p>5 rows × 24 columns</p>\n",
       "</div>"
      ],
      "text/plain": [
       "  sales_enquiry_id    Product    Seller Authority Comp_size Competitors  \\\n",
       "0          id-1001  Product A  Seller 6       Mid       Mid          No   \n",
       "1          id-1002  Product B  Seller 8       Mid       Big          No   \n",
       "2          id-1003  Product F  Seller 1       Mid       Big          No   \n",
       "3          id-1004  Product B  Seller 8       Mid       Big          No   \n",
       "4          id-1005  Product C  Seller 1       Mid     Small     Unknown   \n",
       "\n",
       "  Purch_dept Partnership Budgt_alloc Forml_tend  ...      Source   Client  \\\n",
       "0    Unknown          No         Yes         No  ...    Referral  Current   \n",
       "1        Yes          No     Unknown         No  ...    Referral  Current   \n",
       "2         No         Yes          No         No  ...  Joint past  Current   \n",
       "3        Yes          No          No         No  ...  Joint past  Current   \n",
       "4         No          No          No         No  ...     Unknown      New   \n",
       "\n",
       "           Scope         Strat_deal Cross_sale Up_sale    Deal_type  \\\n",
       "0          Clear     Very important         No     Yes      Project   \n",
       "1          Clear        Unimportant         No     Yes  Maintenance   \n",
       "2  Few questions  Average important        Yes      No      Project   \n",
       "3          Clear     Very important         No     Yes  Maintenance   \n",
       "4  Few questions  Average important         No      No      Project   \n",
       "\n",
       "        Needs_def       Att_t_client Status  \n",
       "0             Yes  Strategic account    Won  \n",
       "1             Yes  Strategic account    Won  \n",
       "2  Info gathering  Strategic account    Won  \n",
       "3             Yes  Strategic account    Won  \n",
       "4              No             Normal    Won  \n",
       "\n",
       "[5 rows x 24 columns]"
      ]
     },
     "execution_count": 63,
     "metadata": {},
     "output_type": "execute_result"
    }
   ],
   "source": [
    "df = pd.read_csv('CRM_new1.csv')\n",
    "df.head()"
   ]
  },
  {
   "cell_type": "code",
   "execution_count": 64,
   "metadata": {},
   "outputs": [
    {
     "name": "stdout",
     "output_type": "stream",
     "text": [
      "<class 'pandas.core.frame.DataFrame'>\n",
      "RangeIndex: 448 entries, 0 to 447\n",
      "Data columns (total 24 columns):\n",
      " #   Column            Non-Null Count  Dtype \n",
      "---  ------            --------------  ----- \n",
      " 0   sales_enquiry_id  448 non-null    object\n",
      " 1   Product           448 non-null    object\n",
      " 2   Seller            448 non-null    object\n",
      " 3   Authority         448 non-null    object\n",
      " 4   Comp_size         448 non-null    object\n",
      " 5   Competitors       448 non-null    object\n",
      " 6   Purch_dept        448 non-null    object\n",
      " 7   Partnership       448 non-null    object\n",
      " 8   Budgt_alloc       448 non-null    object\n",
      " 9   Forml_tend        448 non-null    object\n",
      " 10  RFI               448 non-null    object\n",
      " 11  RFP               448 non-null    object\n",
      " 12  Growth            448 non-null    object\n",
      " 13  Posit_statm       448 non-null    object\n",
      " 14  Source            448 non-null    object\n",
      " 15  Client            448 non-null    object\n",
      " 16  Scope             448 non-null    object\n",
      " 17  Strat_deal        448 non-null    object\n",
      " 18  Cross_sale        448 non-null    object\n",
      " 19  Up_sale           448 non-null    object\n",
      " 20  Deal_type         448 non-null    object\n",
      " 21  Needs_def         448 non-null    object\n",
      " 22  Att_t_client      448 non-null    object\n",
      " 23  Status            448 non-null    object\n",
      "dtypes: object(24)\n",
      "memory usage: 84.1+ KB\n"
     ]
    }
   ],
   "source": [
    "df.info()"
   ]
  },
  {
   "cell_type": "code",
   "execution_count": 65,
   "metadata": {},
   "outputs": [],
   "source": [
    "data=df\n",
    "data.Status.replace([\"Won\", \"Lost\"], [1, 0], inplace= True)\n",
    "data.drop(\"sales_enquiry_id\", axis= 1, inplace= True)"
   ]
  },
  {
   "cell_type": "code",
   "execution_count": 66,
   "metadata": {},
   "outputs": [
    {
     "name": "stdout",
     "output_type": "stream",
     "text": [
      "<class 'pandas.core.frame.DataFrame'>\n",
      "RangeIndex: 448 entries, 0 to 447\n",
      "Data columns (total 23 columns):\n",
      " #   Column        Non-Null Count  Dtype \n",
      "---  ------        --------------  ----- \n",
      " 0   Product       448 non-null    object\n",
      " 1   Seller        448 non-null    object\n",
      " 2   Authority     448 non-null    object\n",
      " 3   Comp_size     448 non-null    object\n",
      " 4   Competitors   448 non-null    object\n",
      " 5   Purch_dept    448 non-null    object\n",
      " 6   Partnership   448 non-null    object\n",
      " 7   Budgt_alloc   448 non-null    object\n",
      " 8   Forml_tend    448 non-null    object\n",
      " 9   RFI           448 non-null    object\n",
      " 10  RFP           448 non-null    object\n",
      " 11  Growth        448 non-null    object\n",
      " 12  Posit_statm   448 non-null    object\n",
      " 13  Source        448 non-null    object\n",
      " 14  Client        448 non-null    object\n",
      " 15  Scope         448 non-null    object\n",
      " 16  Strat_deal    448 non-null    object\n",
      " 17  Cross_sale    448 non-null    object\n",
      " 18  Up_sale       448 non-null    object\n",
      " 19  Deal_type     448 non-null    object\n",
      " 20  Needs_def     448 non-null    object\n",
      " 21  Att_t_client  448 non-null    object\n",
      " 22  Status        448 non-null    int64 \n",
      "dtypes: int64(1), object(22)\n",
      "memory usage: 80.6+ KB\n"
     ]
    }
   ],
   "source": [
    "data.info()"
   ]
  },
  {
   "cell_type": "code",
   "execution_count": 67,
   "metadata": {},
   "outputs": [
    {
     "name": "stdout",
     "output_type": "stream",
     "text": [
      "<class 'pandas.core.frame.DataFrame'>\n",
      "RangeIndex: 448 entries, 0 to 447\n",
      "Data columns (total 96 columns):\n",
      " #   Column                          Non-Null Count  Dtype\n",
      "---  ------                          --------------  -----\n",
      " 0   Status                          448 non-null    int64\n",
      " 1   Product_Product A               448 non-null    uint8\n",
      " 2   Product_Product B               448 non-null    uint8\n",
      " 3   Product_Product C               448 non-null    uint8\n",
      " 4   Product_Product D               448 non-null    uint8\n",
      " 5   Product_Product E               448 non-null    uint8\n",
      " 6   Product_Product F               448 non-null    uint8\n",
      " 7   Product_Product G               448 non-null    uint8\n",
      " 8   Product_Product H               448 non-null    uint8\n",
      " 9   Product_Product I               448 non-null    uint8\n",
      " 10  Product_Product J               448 non-null    uint8\n",
      " 11  Product_Product K               448 non-null    uint8\n",
      " 12  Product_Product L               448 non-null    uint8\n",
      " 13  Product_Product N               448 non-null    uint8\n",
      " 14  Product_Product P               448 non-null    uint8\n",
      " 15  Seller_Seller 1                 448 non-null    uint8\n",
      " 16  Seller_Seller 10                448 non-null    uint8\n",
      " 17  Seller_Seller 11                448 non-null    uint8\n",
      " 18  Seller_Seller 12                448 non-null    uint8\n",
      " 19  Seller_Seller 13                448 non-null    uint8\n",
      " 20  Seller_Seller 14                448 non-null    uint8\n",
      " 21  Seller_Seller 15                448 non-null    uint8\n",
      " 22  Seller_Seller 16                448 non-null    uint8\n",
      " 23  Seller_Seller 17                448 non-null    uint8\n",
      " 24  Seller_Seller 2                 448 non-null    uint8\n",
      " 25  Seller_Seller 20                448 non-null    uint8\n",
      " 26  Seller_Seller 3                 448 non-null    uint8\n",
      " 27  Seller_Seller 4                 448 non-null    uint8\n",
      " 28  Seller_Seller 5                 448 non-null    uint8\n",
      " 29  Seller_Seller 6                 448 non-null    uint8\n",
      " 30  Seller_Seller 7                 448 non-null    uint8\n",
      " 31  Seller_Seller 8                 448 non-null    uint8\n",
      " 32  Seller_Seller 9                 448 non-null    uint8\n",
      " 33  Authority_High                  448 non-null    uint8\n",
      " 34  Authority_Low                   448 non-null    uint8\n",
      " 35  Authority_Mid                   448 non-null    uint8\n",
      " 36  Comp_size_Big                   448 non-null    uint8\n",
      " 37  Comp_size_Mid                   448 non-null    uint8\n",
      " 38  Comp_size_Small                 448 non-null    uint8\n",
      " 39  Competitors_No                  448 non-null    uint8\n",
      " 40  Competitors_Unknown             448 non-null    uint8\n",
      " 41  Competitors_Yes                 448 non-null    uint8\n",
      " 42  Purch_dept_No                   448 non-null    uint8\n",
      " 43  Purch_dept_Unknown              448 non-null    uint8\n",
      " 44  Purch_dept_Yes                  448 non-null    uint8\n",
      " 45  Partnership_No                  448 non-null    uint8\n",
      " 46  Partnership_Yes                 448 non-null    uint8\n",
      " 47  Budgt_alloc_No                  448 non-null    uint8\n",
      " 48  Budgt_alloc_Unknown             448 non-null    uint8\n",
      " 49  Budgt_alloc_Yes                 448 non-null    uint8\n",
      " 50  Forml_tend_No                   448 non-null    uint8\n",
      " 51  Forml_tend_Yes                  448 non-null    uint8\n",
      " 52  RFI_No                          448 non-null    uint8\n",
      " 53  RFI_Yes                         448 non-null    uint8\n",
      " 54  RFP_No                          448 non-null    uint8\n",
      " 55  RFP_Yes                         448 non-null    uint8\n",
      " 56  Growth_Growth                   448 non-null    uint8\n",
      " 57  Growth_Slow down                448 non-null    uint8\n",
      " 58  Growth_Stable                   448 non-null    uint8\n",
      " 59  Growth_Unknown                  448 non-null    uint8\n",
      " 60  Posit_statm_Neutral             448 non-null    uint8\n",
      " 61  Posit_statm_No                  448 non-null    uint8\n",
      " 62  Posit_statm_Yes                 448 non-null    uint8\n",
      " 63  Source_Direct mail              448 non-null    uint8\n",
      " 64  Source_Event                    448 non-null    uint8\n",
      " 65  Source_Joint past               448 non-null    uint8\n",
      " 66  Source_Media                    448 non-null    uint8\n",
      " 67  Source_Online form              448 non-null    uint8\n",
      " 68  Source_Other                    448 non-null    uint8\n",
      " 69  Source_Referral                 448 non-null    uint8\n",
      " 70  Source_Unknown                  448 non-null    uint8\n",
      " 71  Client_Current                  448 non-null    uint8\n",
      " 72  Client_New                      448 non-null    uint8\n",
      " 73  Client_Past                     448 non-null    uint8\n",
      " 74  Scope_Clear                     448 non-null    uint8\n",
      " 75  Scope_Few questions             448 non-null    uint8\n",
      " 76  Scope_Low                       448 non-null    uint8\n",
      " 77  Strat_deal_Average important    448 non-null    uint8\n",
      " 78  Strat_deal_Unimportant          448 non-null    uint8\n",
      " 79  Strat_deal_Very important       448 non-null    uint8\n",
      " 80  Cross_sale_No                   448 non-null    uint8\n",
      " 81  Cross_sale_Yes                  448 non-null    uint8\n",
      " 82  Up_sale_No                      448 non-null    uint8\n",
      " 83  Up_sale_Yes                     448 non-null    uint8\n",
      " 84  Deal_type_Consulting            448 non-null    uint8\n",
      " 85  Deal_type_Maintenance           448 non-null    uint8\n",
      " 86  Deal_type_Project               448 non-null    uint8\n",
      " 87  Deal_type_Solution              448 non-null    uint8\n",
      " 88  Needs_def_Info gathering        448 non-null    uint8\n",
      " 89  Needs_def_No                    448 non-null    uint8\n",
      " 90  Needs_def_Poor                  448 non-null    uint8\n",
      " 91  Needs_def_Yes                   448 non-null    uint8\n",
      " 92  Att_t_client_Bad client         448 non-null    uint8\n",
      " 93  Att_t_client_First deal         448 non-null    uint8\n",
      " 94  Att_t_client_Normal             448 non-null    uint8\n",
      " 95  Att_t_client_Strategic account  448 non-null    uint8\n",
      "dtypes: int64(1), uint8(95)\n",
      "memory usage: 45.2 KB\n"
     ]
    }
   ],
   "source": [
    "data = pd.get_dummies(data)\n",
    "data.info()"
   ]
  },
  {
   "cell_type": "code",
   "execution_count": 68,
   "metadata": {
    "scrolled": false
   },
   "outputs": [
    {
     "data": {
      "text/html": [
       "<div>\n",
       "<style scoped>\n",
       "    .dataframe tbody tr th:only-of-type {\n",
       "        vertical-align: middle;\n",
       "    }\n",
       "\n",
       "    .dataframe tbody tr th {\n",
       "        vertical-align: top;\n",
       "    }\n",
       "\n",
       "    .dataframe thead th {\n",
       "        text-align: right;\n",
       "    }\n",
       "</style>\n",
       "<table border=\"1\" class=\"dataframe\">\n",
       "  <thead>\n",
       "    <tr style=\"text-align: right;\">\n",
       "      <th></th>\n",
       "      <th>Status</th>\n",
       "      <th>Product_Product A</th>\n",
       "      <th>Product_Product B</th>\n",
       "      <th>Product_Product C</th>\n",
       "      <th>Product_Product D</th>\n",
       "      <th>Product_Product E</th>\n",
       "      <th>Product_Product F</th>\n",
       "      <th>Product_Product G</th>\n",
       "      <th>Product_Product H</th>\n",
       "      <th>Product_Product I</th>\n",
       "      <th>...</th>\n",
       "      <th>Deal_type_Project</th>\n",
       "      <th>Deal_type_Solution</th>\n",
       "      <th>Needs_def_Info gathering</th>\n",
       "      <th>Needs_def_No</th>\n",
       "      <th>Needs_def_Poor</th>\n",
       "      <th>Needs_def_Yes</th>\n",
       "      <th>Att_t_client_Bad client</th>\n",
       "      <th>Att_t_client_First deal</th>\n",
       "      <th>Att_t_client_Normal</th>\n",
       "      <th>Att_t_client_Strategic account</th>\n",
       "    </tr>\n",
       "  </thead>\n",
       "  <tbody>\n",
       "    <tr>\n",
       "      <th>0</th>\n",
       "      <td>1</td>\n",
       "      <td>1</td>\n",
       "      <td>0</td>\n",
       "      <td>0</td>\n",
       "      <td>0</td>\n",
       "      <td>0</td>\n",
       "      <td>0</td>\n",
       "      <td>0</td>\n",
       "      <td>0</td>\n",
       "      <td>0</td>\n",
       "      <td>...</td>\n",
       "      <td>1</td>\n",
       "      <td>0</td>\n",
       "      <td>0</td>\n",
       "      <td>0</td>\n",
       "      <td>0</td>\n",
       "      <td>1</td>\n",
       "      <td>0</td>\n",
       "      <td>0</td>\n",
       "      <td>0</td>\n",
       "      <td>1</td>\n",
       "    </tr>\n",
       "    <tr>\n",
       "      <th>1</th>\n",
       "      <td>1</td>\n",
       "      <td>0</td>\n",
       "      <td>1</td>\n",
       "      <td>0</td>\n",
       "      <td>0</td>\n",
       "      <td>0</td>\n",
       "      <td>0</td>\n",
       "      <td>0</td>\n",
       "      <td>0</td>\n",
       "      <td>0</td>\n",
       "      <td>...</td>\n",
       "      <td>0</td>\n",
       "      <td>0</td>\n",
       "      <td>0</td>\n",
       "      <td>0</td>\n",
       "      <td>0</td>\n",
       "      <td>1</td>\n",
       "      <td>0</td>\n",
       "      <td>0</td>\n",
       "      <td>0</td>\n",
       "      <td>1</td>\n",
       "    </tr>\n",
       "    <tr>\n",
       "      <th>2</th>\n",
       "      <td>1</td>\n",
       "      <td>0</td>\n",
       "      <td>0</td>\n",
       "      <td>0</td>\n",
       "      <td>0</td>\n",
       "      <td>0</td>\n",
       "      <td>1</td>\n",
       "      <td>0</td>\n",
       "      <td>0</td>\n",
       "      <td>0</td>\n",
       "      <td>...</td>\n",
       "      <td>1</td>\n",
       "      <td>0</td>\n",
       "      <td>1</td>\n",
       "      <td>0</td>\n",
       "      <td>0</td>\n",
       "      <td>0</td>\n",
       "      <td>0</td>\n",
       "      <td>0</td>\n",
       "      <td>0</td>\n",
       "      <td>1</td>\n",
       "    </tr>\n",
       "    <tr>\n",
       "      <th>3</th>\n",
       "      <td>1</td>\n",
       "      <td>0</td>\n",
       "      <td>1</td>\n",
       "      <td>0</td>\n",
       "      <td>0</td>\n",
       "      <td>0</td>\n",
       "      <td>0</td>\n",
       "      <td>0</td>\n",
       "      <td>0</td>\n",
       "      <td>0</td>\n",
       "      <td>...</td>\n",
       "      <td>0</td>\n",
       "      <td>0</td>\n",
       "      <td>0</td>\n",
       "      <td>0</td>\n",
       "      <td>0</td>\n",
       "      <td>1</td>\n",
       "      <td>0</td>\n",
       "      <td>0</td>\n",
       "      <td>0</td>\n",
       "      <td>1</td>\n",
       "    </tr>\n",
       "    <tr>\n",
       "      <th>4</th>\n",
       "      <td>1</td>\n",
       "      <td>0</td>\n",
       "      <td>0</td>\n",
       "      <td>1</td>\n",
       "      <td>0</td>\n",
       "      <td>0</td>\n",
       "      <td>0</td>\n",
       "      <td>0</td>\n",
       "      <td>0</td>\n",
       "      <td>0</td>\n",
       "      <td>...</td>\n",
       "      <td>1</td>\n",
       "      <td>0</td>\n",
       "      <td>0</td>\n",
       "      <td>1</td>\n",
       "      <td>0</td>\n",
       "      <td>0</td>\n",
       "      <td>0</td>\n",
       "      <td>0</td>\n",
       "      <td>1</td>\n",
       "      <td>0</td>\n",
       "    </tr>\n",
       "    <tr>\n",
       "      <th>5</th>\n",
       "      <td>0</td>\n",
       "      <td>0</td>\n",
       "      <td>1</td>\n",
       "      <td>0</td>\n",
       "      <td>0</td>\n",
       "      <td>0</td>\n",
       "      <td>0</td>\n",
       "      <td>0</td>\n",
       "      <td>0</td>\n",
       "      <td>0</td>\n",
       "      <td>...</td>\n",
       "      <td>1</td>\n",
       "      <td>0</td>\n",
       "      <td>0</td>\n",
       "      <td>0</td>\n",
       "      <td>0</td>\n",
       "      <td>1</td>\n",
       "      <td>0</td>\n",
       "      <td>1</td>\n",
       "      <td>0</td>\n",
       "      <td>0</td>\n",
       "    </tr>\n",
       "    <tr>\n",
       "      <th>6</th>\n",
       "      <td>1</td>\n",
       "      <td>0</td>\n",
       "      <td>1</td>\n",
       "      <td>0</td>\n",
       "      <td>0</td>\n",
       "      <td>0</td>\n",
       "      <td>0</td>\n",
       "      <td>0</td>\n",
       "      <td>0</td>\n",
       "      <td>0</td>\n",
       "      <td>...</td>\n",
       "      <td>1</td>\n",
       "      <td>0</td>\n",
       "      <td>0</td>\n",
       "      <td>0</td>\n",
       "      <td>0</td>\n",
       "      <td>1</td>\n",
       "      <td>0</td>\n",
       "      <td>1</td>\n",
       "      <td>0</td>\n",
       "      <td>0</td>\n",
       "    </tr>\n",
       "    <tr>\n",
       "      <th>7</th>\n",
       "      <td>1</td>\n",
       "      <td>0</td>\n",
       "      <td>0</td>\n",
       "      <td>0</td>\n",
       "      <td>0</td>\n",
       "      <td>0</td>\n",
       "      <td>0</td>\n",
       "      <td>0</td>\n",
       "      <td>0</td>\n",
       "      <td>1</td>\n",
       "      <td>...</td>\n",
       "      <td>0</td>\n",
       "      <td>0</td>\n",
       "      <td>0</td>\n",
       "      <td>0</td>\n",
       "      <td>0</td>\n",
       "      <td>1</td>\n",
       "      <td>0</td>\n",
       "      <td>0</td>\n",
       "      <td>1</td>\n",
       "      <td>0</td>\n",
       "    </tr>\n",
       "    <tr>\n",
       "      <th>8</th>\n",
       "      <td>1</td>\n",
       "      <td>0</td>\n",
       "      <td>0</td>\n",
       "      <td>0</td>\n",
       "      <td>1</td>\n",
       "      <td>0</td>\n",
       "      <td>0</td>\n",
       "      <td>0</td>\n",
       "      <td>0</td>\n",
       "      <td>0</td>\n",
       "      <td>...</td>\n",
       "      <td>0</td>\n",
       "      <td>0</td>\n",
       "      <td>0</td>\n",
       "      <td>0</td>\n",
       "      <td>0</td>\n",
       "      <td>1</td>\n",
       "      <td>0</td>\n",
       "      <td>0</td>\n",
       "      <td>1</td>\n",
       "      <td>0</td>\n",
       "    </tr>\n",
       "    <tr>\n",
       "      <th>9</th>\n",
       "      <td>1</td>\n",
       "      <td>0</td>\n",
       "      <td>0</td>\n",
       "      <td>1</td>\n",
       "      <td>0</td>\n",
       "      <td>0</td>\n",
       "      <td>0</td>\n",
       "      <td>0</td>\n",
       "      <td>0</td>\n",
       "      <td>0</td>\n",
       "      <td>...</td>\n",
       "      <td>1</td>\n",
       "      <td>0</td>\n",
       "      <td>0</td>\n",
       "      <td>0</td>\n",
       "      <td>0</td>\n",
       "      <td>1</td>\n",
       "      <td>0</td>\n",
       "      <td>0</td>\n",
       "      <td>1</td>\n",
       "      <td>0</td>\n",
       "    </tr>\n",
       "  </tbody>\n",
       "</table>\n",
       "<p>10 rows × 96 columns</p>\n",
       "</div>"
      ],
      "text/plain": [
       "   Status  Product_Product A  Product_Product B  Product_Product C  \\\n",
       "0       1                  1                  0                  0   \n",
       "1       1                  0                  1                  0   \n",
       "2       1                  0                  0                  0   \n",
       "3       1                  0                  1                  0   \n",
       "4       1                  0                  0                  1   \n",
       "5       0                  0                  1                  0   \n",
       "6       1                  0                  1                  0   \n",
       "7       1                  0                  0                  0   \n",
       "8       1                  0                  0                  0   \n",
       "9       1                  0                  0                  1   \n",
       "\n",
       "   Product_Product D  Product_Product E  Product_Product F  Product_Product G  \\\n",
       "0                  0                  0                  0                  0   \n",
       "1                  0                  0                  0                  0   \n",
       "2                  0                  0                  1                  0   \n",
       "3                  0                  0                  0                  0   \n",
       "4                  0                  0                  0                  0   \n",
       "5                  0                  0                  0                  0   \n",
       "6                  0                  0                  0                  0   \n",
       "7                  0                  0                  0                  0   \n",
       "8                  1                  0                  0                  0   \n",
       "9                  0                  0                  0                  0   \n",
       "\n",
       "   Product_Product H  Product_Product I  ...  Deal_type_Project  \\\n",
       "0                  0                  0  ...                  1   \n",
       "1                  0                  0  ...                  0   \n",
       "2                  0                  0  ...                  1   \n",
       "3                  0                  0  ...                  0   \n",
       "4                  0                  0  ...                  1   \n",
       "5                  0                  0  ...                  1   \n",
       "6                  0                  0  ...                  1   \n",
       "7                  0                  1  ...                  0   \n",
       "8                  0                  0  ...                  0   \n",
       "9                  0                  0  ...                  1   \n",
       "\n",
       "   Deal_type_Solution  Needs_def_Info gathering  Needs_def_No  Needs_def_Poor  \\\n",
       "0                   0                         0             0               0   \n",
       "1                   0                         0             0               0   \n",
       "2                   0                         1             0               0   \n",
       "3                   0                         0             0               0   \n",
       "4                   0                         0             1               0   \n",
       "5                   0                         0             0               0   \n",
       "6                   0                         0             0               0   \n",
       "7                   0                         0             0               0   \n",
       "8                   0                         0             0               0   \n",
       "9                   0                         0             0               0   \n",
       "\n",
       "   Needs_def_Yes  Att_t_client_Bad client  Att_t_client_First deal  \\\n",
       "0              1                        0                        0   \n",
       "1              1                        0                        0   \n",
       "2              0                        0                        0   \n",
       "3              1                        0                        0   \n",
       "4              0                        0                        0   \n",
       "5              1                        0                        1   \n",
       "6              1                        0                        1   \n",
       "7              1                        0                        0   \n",
       "8              1                        0                        0   \n",
       "9              1                        0                        0   \n",
       "\n",
       "   Att_t_client_Normal  Att_t_client_Strategic account  \n",
       "0                    0                               1  \n",
       "1                    0                               1  \n",
       "2                    0                               1  \n",
       "3                    0                               1  \n",
       "4                    1                               0  \n",
       "5                    0                               0  \n",
       "6                    0                               0  \n",
       "7                    1                               0  \n",
       "8                    1                               0  \n",
       "9                    1                               0  \n",
       "\n",
       "[10 rows x 96 columns]"
      ]
     },
     "execution_count": 68,
     "metadata": {},
     "output_type": "execute_result"
    }
   ],
   "source": [
    "data.head(10)"
   ]
  },
  {
   "cell_type": "code",
   "execution_count": 69,
   "metadata": {},
   "outputs": [],
   "source": [
    "X = data.drop(\"Status\", axis= 1)\n",
    "y = data.Status"
   ]
  },
  {
   "cell_type": "code",
   "execution_count": 70,
   "metadata": {},
   "outputs": [
    {
     "data": {
      "text/html": [
       "<div>\n",
       "<style scoped>\n",
       "    .dataframe tbody tr th:only-of-type {\n",
       "        vertical-align: middle;\n",
       "    }\n",
       "\n",
       "    .dataframe tbody tr th {\n",
       "        vertical-align: top;\n",
       "    }\n",
       "\n",
       "    .dataframe thead th {\n",
       "        text-align: right;\n",
       "    }\n",
       "</style>\n",
       "<table border=\"1\" class=\"dataframe\">\n",
       "  <thead>\n",
       "    <tr style=\"text-align: right;\">\n",
       "      <th></th>\n",
       "      <th>Product_Product A</th>\n",
       "      <th>Product_Product B</th>\n",
       "      <th>Product_Product C</th>\n",
       "      <th>Product_Product D</th>\n",
       "      <th>Product_Product E</th>\n",
       "      <th>Product_Product F</th>\n",
       "      <th>Product_Product G</th>\n",
       "      <th>Product_Product H</th>\n",
       "      <th>Product_Product I</th>\n",
       "      <th>Product_Product J</th>\n",
       "      <th>...</th>\n",
       "      <th>Deal_type_Project</th>\n",
       "      <th>Deal_type_Solution</th>\n",
       "      <th>Needs_def_Info gathering</th>\n",
       "      <th>Needs_def_No</th>\n",
       "      <th>Needs_def_Poor</th>\n",
       "      <th>Needs_def_Yes</th>\n",
       "      <th>Att_t_client_Bad client</th>\n",
       "      <th>Att_t_client_First deal</th>\n",
       "      <th>Att_t_client_Normal</th>\n",
       "      <th>Att_t_client_Strategic account</th>\n",
       "    </tr>\n",
       "  </thead>\n",
       "  <tbody>\n",
       "    <tr>\n",
       "      <th>0</th>\n",
       "      <td>1</td>\n",
       "      <td>0</td>\n",
       "      <td>0</td>\n",
       "      <td>0</td>\n",
       "      <td>0</td>\n",
       "      <td>0</td>\n",
       "      <td>0</td>\n",
       "      <td>0</td>\n",
       "      <td>0</td>\n",
       "      <td>0</td>\n",
       "      <td>...</td>\n",
       "      <td>1</td>\n",
       "      <td>0</td>\n",
       "      <td>0</td>\n",
       "      <td>0</td>\n",
       "      <td>0</td>\n",
       "      <td>1</td>\n",
       "      <td>0</td>\n",
       "      <td>0</td>\n",
       "      <td>0</td>\n",
       "      <td>1</td>\n",
       "    </tr>\n",
       "    <tr>\n",
       "      <th>1</th>\n",
       "      <td>0</td>\n",
       "      <td>1</td>\n",
       "      <td>0</td>\n",
       "      <td>0</td>\n",
       "      <td>0</td>\n",
       "      <td>0</td>\n",
       "      <td>0</td>\n",
       "      <td>0</td>\n",
       "      <td>0</td>\n",
       "      <td>0</td>\n",
       "      <td>...</td>\n",
       "      <td>0</td>\n",
       "      <td>0</td>\n",
       "      <td>0</td>\n",
       "      <td>0</td>\n",
       "      <td>0</td>\n",
       "      <td>1</td>\n",
       "      <td>0</td>\n",
       "      <td>0</td>\n",
       "      <td>0</td>\n",
       "      <td>1</td>\n",
       "    </tr>\n",
       "    <tr>\n",
       "      <th>2</th>\n",
       "      <td>0</td>\n",
       "      <td>0</td>\n",
       "      <td>0</td>\n",
       "      <td>0</td>\n",
       "      <td>0</td>\n",
       "      <td>1</td>\n",
       "      <td>0</td>\n",
       "      <td>0</td>\n",
       "      <td>0</td>\n",
       "      <td>0</td>\n",
       "      <td>...</td>\n",
       "      <td>1</td>\n",
       "      <td>0</td>\n",
       "      <td>1</td>\n",
       "      <td>0</td>\n",
       "      <td>0</td>\n",
       "      <td>0</td>\n",
       "      <td>0</td>\n",
       "      <td>0</td>\n",
       "      <td>0</td>\n",
       "      <td>1</td>\n",
       "    </tr>\n",
       "    <tr>\n",
       "      <th>3</th>\n",
       "      <td>0</td>\n",
       "      <td>1</td>\n",
       "      <td>0</td>\n",
       "      <td>0</td>\n",
       "      <td>0</td>\n",
       "      <td>0</td>\n",
       "      <td>0</td>\n",
       "      <td>0</td>\n",
       "      <td>0</td>\n",
       "      <td>0</td>\n",
       "      <td>...</td>\n",
       "      <td>0</td>\n",
       "      <td>0</td>\n",
       "      <td>0</td>\n",
       "      <td>0</td>\n",
       "      <td>0</td>\n",
       "      <td>1</td>\n",
       "      <td>0</td>\n",
       "      <td>0</td>\n",
       "      <td>0</td>\n",
       "      <td>1</td>\n",
       "    </tr>\n",
       "    <tr>\n",
       "      <th>4</th>\n",
       "      <td>0</td>\n",
       "      <td>0</td>\n",
       "      <td>1</td>\n",
       "      <td>0</td>\n",
       "      <td>0</td>\n",
       "      <td>0</td>\n",
       "      <td>0</td>\n",
       "      <td>0</td>\n",
       "      <td>0</td>\n",
       "      <td>0</td>\n",
       "      <td>...</td>\n",
       "      <td>1</td>\n",
       "      <td>0</td>\n",
       "      <td>0</td>\n",
       "      <td>1</td>\n",
       "      <td>0</td>\n",
       "      <td>0</td>\n",
       "      <td>0</td>\n",
       "      <td>0</td>\n",
       "      <td>1</td>\n",
       "      <td>0</td>\n",
       "    </tr>\n",
       "  </tbody>\n",
       "</table>\n",
       "<p>5 rows × 95 columns</p>\n",
       "</div>"
      ],
      "text/plain": [
       "   Product_Product A  Product_Product B  Product_Product C  Product_Product D  \\\n",
       "0                  1                  0                  0                  0   \n",
       "1                  0                  1                  0                  0   \n",
       "2                  0                  0                  0                  0   \n",
       "3                  0                  1                  0                  0   \n",
       "4                  0                  0                  1                  0   \n",
       "\n",
       "   Product_Product E  Product_Product F  Product_Product G  Product_Product H  \\\n",
       "0                  0                  0                  0                  0   \n",
       "1                  0                  0                  0                  0   \n",
       "2                  0                  1                  0                  0   \n",
       "3                  0                  0                  0                  0   \n",
       "4                  0                  0                  0                  0   \n",
       "\n",
       "   Product_Product I  Product_Product J  ...  Deal_type_Project  \\\n",
       "0                  0                  0  ...                  1   \n",
       "1                  0                  0  ...                  0   \n",
       "2                  0                  0  ...                  1   \n",
       "3                  0                  0  ...                  0   \n",
       "4                  0                  0  ...                  1   \n",
       "\n",
       "   Deal_type_Solution  Needs_def_Info gathering  Needs_def_No  Needs_def_Poor  \\\n",
       "0                   0                         0             0               0   \n",
       "1                   0                         0             0               0   \n",
       "2                   0                         1             0               0   \n",
       "3                   0                         0             0               0   \n",
       "4                   0                         0             1               0   \n",
       "\n",
       "   Needs_def_Yes  Att_t_client_Bad client  Att_t_client_First deal  \\\n",
       "0              1                        0                        0   \n",
       "1              1                        0                        0   \n",
       "2              0                        0                        0   \n",
       "3              1                        0                        0   \n",
       "4              0                        0                        0   \n",
       "\n",
       "   Att_t_client_Normal  Att_t_client_Strategic account  \n",
       "0                    0                               1  \n",
       "1                    0                               1  \n",
       "2                    0                               1  \n",
       "3                    0                               1  \n",
       "4                    1                               0  \n",
       "\n",
       "[5 rows x 95 columns]"
      ]
     },
     "execution_count": 70,
     "metadata": {},
     "output_type": "execute_result"
    }
   ],
   "source": [
    "X.head()"
   ]
  },
  {
   "cell_type": "code",
   "execution_count": 71,
   "metadata": {},
   "outputs": [
    {
     "data": {
      "text/plain": [
       "0    1\n",
       "1    1\n",
       "2    1\n",
       "3    1\n",
       "4    1\n",
       "5    0\n",
       "Name: Status, dtype: int64"
      ]
     },
     "execution_count": 71,
     "metadata": {},
     "output_type": "execute_result"
    }
   ],
   "source": [
    "y.head(6)"
   ]
  },
  {
   "cell_type": "code",
   "execution_count": 72,
   "metadata": {},
   "outputs": [],
   "source": [
    "X_train, X_test, y_train, y_test = train_test_split(X, y, test_size= 0.2, random_state= 42)"
   ]
  },
  {
   "cell_type": "markdown",
   "metadata": {},
   "source": [
    "## Model -1- Random Forest"
   ]
  },
  {
   "cell_type": "code",
   "execution_count": 73,
   "metadata": {},
   "outputs": [
    {
     "name": "stdout",
     "output_type": "stream",
     "text": [
      "Training set accuracy:  0.941\n",
      "Test set accuracy:  0.867\n"
     ]
    }
   ],
   "source": [
    "rf = RandomForestClassifier(n_estimators=100, max_depth=20, random_state=42)\n",
    "rf.fit(X_train, y_train) \n",
    "score = rf.score(X_train, y_train)\n",
    "score2 = rf.score(X_test, y_test)\n",
    "print(\"Training set accuracy: \", '%.3f'%(score))\n",
    "print(\"Test set accuracy: \", '%.3f'%(score2))"
   ]
  },
  {
   "cell_type": "code",
   "execution_count": 74,
   "metadata": {},
   "outputs": [],
   "source": [
    "rf_predictions = rf.predict(X_test)\n",
    "rf_probs = rf.predict_proba(X_test)"
   ]
  },
  {
   "cell_type": "code",
   "execution_count": 75,
   "metadata": {},
   "outputs": [
    {
     "data": {
      "text/plain": [
       "array([0, 1, 0, 1, 0, 1, 1, 0, 1, 0, 1, 0, 1, 1, 1, 1, 1, 1, 0, 0, 1, 1,\n",
       "       1, 1, 0, 0, 1, 0, 1, 0, 1, 0, 0, 1, 0, 1, 0, 0, 1, 0, 1, 0, 1, 0,\n",
       "       1, 0, 1, 1, 0, 0, 0, 1, 1, 0, 0, 1, 1, 0, 1, 1, 1, 1, 0, 1, 0, 0,\n",
       "       1, 0, 1, 0, 1, 0, 0, 1, 0, 0, 0, 0, 1, 0, 0, 1, 1, 1, 0, 0, 1, 0,\n",
       "       0, 1], dtype=int64)"
      ]
     },
     "execution_count": 75,
     "metadata": {},
     "output_type": "execute_result"
    }
   ],
   "source": [
    "rf_predictions"
   ]
  },
  {
   "cell_type": "code",
   "execution_count": 76,
   "metadata": {},
   "outputs": [
    {
     "data": {
      "text/plain": [
       "array([[0.75666667, 0.24333333],\n",
       "       [0.07      , 0.93      ],\n",
       "       [0.83027778, 0.16972222],\n",
       "       [0.03060606, 0.96939394],\n",
       "       [0.73      , 0.27      ],\n",
       "       [0.01666667, 0.98333333],\n",
       "       [0.017     , 0.983     ],\n",
       "       [0.73      , 0.27      ],\n",
       "       [0.34559524, 0.65440476],\n",
       "       [0.74666667, 0.25333333],\n",
       "       [0.40333333, 0.59666667],\n",
       "       [0.64966667, 0.35033333],\n",
       "       [0.002     , 0.998     ],\n",
       "       [0.3       , 0.7       ],\n",
       "       [0.05      , 0.95      ],\n",
       "       [0.19733333, 0.80266667],\n",
       "       [0.05      , 0.95      ],\n",
       "       [0.25571429, 0.74428571],\n",
       "       [0.50283333, 0.49716667],\n",
       "       [0.85      , 0.15      ],\n",
       "       [0.02      , 0.98      ],\n",
       "       [0.18661111, 0.81338889],\n",
       "       [0.17966667, 0.82033333],\n",
       "       [0.27823737, 0.72176263],\n",
       "       [0.99      , 0.01      ],\n",
       "       [0.64333333, 0.35666667],\n",
       "       [0.03      , 0.97      ],\n",
       "       [0.96      , 0.04      ],\n",
       "       [0.002     , 0.998     ],\n",
       "       [0.586     , 0.414     ],\n",
       "       [0.012     , 0.988     ],\n",
       "       [0.72536905, 0.27463095],\n",
       "       [0.85      , 0.15      ],\n",
       "       [0.16369048, 0.83630952],\n",
       "       [0.73      , 0.27      ],\n",
       "       [0.07      , 0.93      ],\n",
       "       [0.77      , 0.23      ],\n",
       "       [0.85      , 0.15      ],\n",
       "       [0.4727619 , 0.5272381 ],\n",
       "       [0.96      , 0.04      ],\n",
       "       [0.        , 1.        ],\n",
       "       [0.794     , 0.206     ],\n",
       "       [0.46016667, 0.53983333],\n",
       "       [1.        , 0.        ],\n",
       "       [0.02      , 0.98      ],\n",
       "       [0.77      , 0.23      ],\n",
       "       [0.05      , 0.95      ],\n",
       "       [0.33417435, 0.66582565],\n",
       "       [0.745     , 0.255     ],\n",
       "       [0.64      , 0.36      ],\n",
       "       [0.51642857, 0.48357143],\n",
       "       [0.03308333, 0.96691667],\n",
       "       [0.03238095, 0.96761905],\n",
       "       [0.53916667, 0.46083333],\n",
       "       [0.62      , 0.38      ],\n",
       "       [0.35922619, 0.64077381],\n",
       "       [0.195     , 0.805     ],\n",
       "       [0.99      , 0.01      ],\n",
       "       [0.31      , 0.69      ],\n",
       "       [0.34368282, 0.65631718],\n",
       "       [0.4       , 0.6       ],\n",
       "       [0.14      , 0.86      ],\n",
       "       [0.77      , 0.23      ],\n",
       "       [0.22      , 0.78      ],\n",
       "       [0.9525    , 0.0475    ],\n",
       "       [0.51316667, 0.48683333],\n",
       "       [0.18824747, 0.81175253],\n",
       "       [1.        , 0.        ],\n",
       "       [0.45714286, 0.54285714],\n",
       "       [0.93241667, 0.06758333],\n",
       "       [0.07666667, 0.92333333],\n",
       "       [0.51      , 0.49      ],\n",
       "       [0.98      , 0.02      ],\n",
       "       [0.        , 1.        ],\n",
       "       [0.88666667, 0.11333333],\n",
       "       [0.95      , 0.05      ],\n",
       "       [0.676     , 0.324     ],\n",
       "       [0.85      , 0.15      ],\n",
       "       [0.36857143, 0.63142857],\n",
       "       [0.62816667, 0.37183333],\n",
       "       [0.98      , 0.02      ],\n",
       "       [0.294     , 0.706     ],\n",
       "       [0.22      , 0.78      ],\n",
       "       [0.2765    , 0.7235    ],\n",
       "       [0.98      , 0.02      ],\n",
       "       [0.83666667, 0.16333333],\n",
       "       [0.458     , 0.542     ],\n",
       "       [0.72261905, 0.27738095],\n",
       "       [0.94      , 0.06      ],\n",
       "       [0.15      , 0.85      ]])"
      ]
     },
     "execution_count": 76,
     "metadata": {},
     "output_type": "execute_result"
    }
   ],
   "source": [
    "rf_probs"
   ]
  },
  {
   "cell_type": "code",
   "execution_count": 77,
   "metadata": {},
   "outputs": [
    {
     "name": "stdout",
     "output_type": "stream",
     "text": [
      "[[38  6]\n",
      " [ 6 40]]\n",
      "              precision    recall  f1-score   support\n",
      "\n",
      "           0       0.86      0.86      0.86        44\n",
      "           1       0.87      0.87      0.87        46\n",
      "\n",
      "    accuracy                           0.87        90\n",
      "   macro avg       0.87      0.87      0.87        90\n",
      "weighted avg       0.87      0.87      0.87        90\n",
      "\n",
      "0.8666666666666667\n"
     ]
    }
   ],
   "source": [
    "y_pred_rf = rf.predict(X_test)\n",
    "print(confusion_matrix(y_test,y_pred_rf))\n",
    "print(classification_report(y_test,y_pred_rf))\n",
    "print(accuracy_score(y_test, y_pred_rf))"
   ]
  },
  {
   "cell_type": "code",
   "execution_count": 79,
   "metadata": {},
   "outputs": [
    {
     "data": {
      "image/png": "[encoded data removed]",
      "text/plain": [
       "<Figure size 432x288 with 2 Axes>"
      ]
     },
     "metadata": {
      "needs_background": "light"
     },
     "output_type": "display_data"
    }
   ],
   "source": [
    "skplt.metrics.plot_confusion_matrix(y_test, y_pred_rf, normalize=True)\n",
    "plt.show()"
   ]
  },
  {
   "cell_type": "markdown",
   "metadata": {},
   "source": [
    "### Plot the ROC curve"
   ]
  },
  {
   "cell_type": "code",
   "execution_count": 80,
   "metadata": {},
   "outputs": [
    {
     "data": {
      "image/png": "[encoded data removed]",
      "text/plain": [
       "<Figure size 432x288 with 1 Axes>"
      ]
     },
     "metadata": {
      "needs_background": "light"
     },
     "output_type": "display_data"
    }
   ],
   "source": [
    "rf_fpr, rf_tpr, _ = roc_curve(y_test,y_pred_rf)\n",
    "roc_auc_rf = roc_auc_score(y_test, y_pred_rf)\n",
    "# plot the roc curve for the model\n",
    "pyplot.plot(rf_fpr, rf_tpr, linestyle='--', label='R_F -- (area = %0.3f)' % roc_auc_rf)\n",
    "# axis labels\n",
    "pyplot.xlabel('False Positive Rate')\n",
    "pyplot.ylabel('True Positive Rate')\n",
    "# show the legend\n",
    "pyplot.legend()\n",
    "# show the plot\n",
    "pyplot.show()"
   ]
  },
  {
   "cell_type": "markdown",
   "metadata": {},
   "source": [
    "### Precision-Recall Curves"
   ]
  },
  {
   "cell_type": "code",
   "execution_count": 81,
   "metadata": {},
   "outputs": [
    {
     "data": {
      "image/png": "[encoded data removed]",
      "text/plain": [
       "<Figure size 432x288 with 1 Axes>"
      ]
     },
     "metadata": {
      "needs_background": "light"
     },
     "output_type": "display_data"
    }
   ],
   "source": [
    "rf_precision, rf_recall, thresholds = precision_recall_curve(y_test,y_pred_rf)\n",
    "pr_auc_rf=auc(rf_recall, rf_precision)\n",
    "pyplot.plot(rf_recall, rf_precision, linestyle='--', label='R_F -- (area = %0.3f)' % pr_auc_rf)\n",
    "# axis labels\n",
    "pyplot.xlabel('Recall')\n",
    "pyplot.ylabel('Precision')\n",
    "# show the legend\n",
    "pyplot.legend()\n",
    "# show the plot\n",
    "pyplot.show()"
   ]
  },
  {
   "cell_type": "markdown",
   "metadata": {},
   "source": [
    "### Important Features"
   ]
  },
  {
   "cell_type": "code",
   "execution_count": 82,
   "metadata": {},
   "outputs": [
    {
     "data": {
      "text/html": [
       "<div>\n",
       "<style scoped>\n",
       "    .dataframe tbody tr th:only-of-type {\n",
       "        vertical-align: middle;\n",
       "    }\n",
       "\n",
       "    .dataframe tbody tr th {\n",
       "        vertical-align: top;\n",
       "    }\n",
       "\n",
       "    .dataframe thead th {\n",
       "        text-align: right;\n",
       "    }\n",
       "</style>\n",
       "<table border=\"1\" class=\"dataframe\">\n",
       "  <thead>\n",
       "    <tr style=\"text-align: right;\">\n",
       "      <th></th>\n",
       "      <th>feature</th>\n",
       "      <th>importance</th>\n",
       "    </tr>\n",
       "  </thead>\n",
       "  <tbody>\n",
       "    <tr>\n",
       "      <th>81</th>\n",
       "      <td>Up_sale_No</td>\n",
       "      <td>0.063393</td>\n",
       "    </tr>\n",
       "    <tr>\n",
       "      <th>82</th>\n",
       "      <td>Up_sale_Yes</td>\n",
       "      <td>0.056862</td>\n",
       "    </tr>\n",
       "    <tr>\n",
       "      <th>71</th>\n",
       "      <td>Client_New</td>\n",
       "      <td>0.043691</td>\n",
       "    </tr>\n",
       "    <tr>\n",
       "      <th>38</th>\n",
       "      <td>Competitors_No</td>\n",
       "      <td>0.043297</td>\n",
       "    </tr>\n",
       "    <tr>\n",
       "      <th>40</th>\n",
       "      <td>Competitors_Yes</td>\n",
       "      <td>0.035429</td>\n",
       "    </tr>\n",
       "    <tr>\n",
       "      <th>1</th>\n",
       "      <td>Product_Product B</td>\n",
       "      <td>0.031720</td>\n",
       "    </tr>\n",
       "    <tr>\n",
       "      <th>31</th>\n",
       "      <td>Seller_Seller 9</td>\n",
       "      <td>0.027676</td>\n",
       "    </tr>\n",
       "    <tr>\n",
       "      <th>70</th>\n",
       "      <td>Client_Current</td>\n",
       "      <td>0.027543</td>\n",
       "    </tr>\n",
       "    <tr>\n",
       "      <th>14</th>\n",
       "      <td>Seller_Seller 1</td>\n",
       "      <td>0.026693</td>\n",
       "    </tr>\n",
       "    <tr>\n",
       "      <th>64</th>\n",
       "      <td>Source_Joint past</td>\n",
       "      <td>0.025251</td>\n",
       "    </tr>\n",
       "    <tr>\n",
       "      <th>46</th>\n",
       "      <td>Budgt_alloc_No</td>\n",
       "      <td>0.025070</td>\n",
       "    </tr>\n",
       "    <tr>\n",
       "      <th>48</th>\n",
       "      <td>Budgt_alloc_Yes</td>\n",
       "      <td>0.024424</td>\n",
       "    </tr>\n",
       "    <tr>\n",
       "      <th>85</th>\n",
       "      <td>Deal_type_Project</td>\n",
       "      <td>0.021476</td>\n",
       "    </tr>\n",
       "    <tr>\n",
       "      <th>41</th>\n",
       "      <td>Purch_dept_No</td>\n",
       "      <td>0.020642</td>\n",
       "    </tr>\n",
       "    <tr>\n",
       "      <th>43</th>\n",
       "      <td>Purch_dept_Yes</td>\n",
       "      <td>0.020586</td>\n",
       "    </tr>\n",
       "  </tbody>\n",
       "</table>\n",
       "</div>"
      ],
      "text/plain": [
       "              feature  importance\n",
       "81         Up_sale_No    0.063393\n",
       "82        Up_sale_Yes    0.056862\n",
       "71         Client_New    0.043691\n",
       "38     Competitors_No    0.043297\n",
       "40    Competitors_Yes    0.035429\n",
       "1   Product_Product B    0.031720\n",
       "31    Seller_Seller 9    0.027676\n",
       "70     Client_Current    0.027543\n",
       "14    Seller_Seller 1    0.026693\n",
       "64  Source_Joint past    0.025251\n",
       "46     Budgt_alloc_No    0.025070\n",
       "48    Budgt_alloc_Yes    0.024424\n",
       "85  Deal_type_Project    0.021476\n",
       "41      Purch_dept_No    0.020642\n",
       "43     Purch_dept_Yes    0.020586"
      ]
     },
     "execution_count": 82,
     "metadata": {},
     "output_type": "execute_result"
    }
   ],
   "source": [
    "fi = pd.DataFrame({'feature': list(X_train.columns),\n",
    "                   'importance': rf.feature_importances_}).\\\n",
    "                    sort_values('importance', ascending = False)\n",
    "fi.head(15)"
   ]
  },
  {
   "cell_type": "markdown",
   "metadata": {},
   "source": [
    "## Deep Learning ANN - Model 2"
   ]
  },
  {
   "cell_type": "code",
   "execution_count": 147,
   "metadata": {},
   "outputs": [],
   "source": [
    "model = Sequential()\n",
    "model.add(Dense(64, input_dim=95, activation='relu', kernel_constraint=maxnorm(3)))\n",
    "model.add(Dropout(rate=0.2))\n",
    "model.add(Dense(48, activation='relu', kernel_constraint=maxnorm(3)))\n",
    "model.add(Dropout(rate=0.2))\n",
    "model.add(Dense(1, activation='sigmoid'))"
   ]
  },
  {
   "cell_type": "code",
   "execution_count": 148,
   "metadata": {},
   "outputs": [],
   "source": [
    "model.compile(loss = \"binary_crossentropy\", optimizer = 'adam', metrics=['accuracy'])"
   ]
  },
  {
   "cell_type": "code",
   "execution_count": 149,
   "metadata": {},
   "outputs": [
    {
     "name": "stdout",
     "output_type": "stream",
     "text": [
      "Train on 358 samples, validate on 90 samples\n",
      "Epoch 1/50\n",
      "358/358 [==============================] - 1s 1ms/step - loss: 0.6281 - accuracy: 0.6620 - val_loss: 0.5254 - val_accuracy: 0.8000\n",
      "Epoch 2/50\n",
      "358/358 [==============================] - 0s 565us/step - loss: 0.5488 - accuracy: 0.7346 - val_loss: 0.4769 - val_accuracy: 0.8000\n",
      "Epoch 3/50\n",
      "358/358 [==============================] - 0s 532us/step - loss: 0.5148 - accuracy: 0.7737 - val_loss: 0.4552 - val_accuracy: 0.8000\n",
      "Epoch 4/50\n",
      "358/358 [==============================] - 0s 540us/step - loss: 0.4934 - accuracy: 0.7905 - val_loss: 0.4436 - val_accuracy: 0.8111\n",
      "Epoch 5/50\n",
      "358/358 [==============================] - 0s 532us/step - loss: 0.4746 - accuracy: 0.7877 - val_loss: 0.4395 - val_accuracy: 0.7889\n",
      "Epoch 6/50\n",
      "358/358 [==============================] - 0s 532us/step - loss: 0.4599 - accuracy: 0.7877 - val_loss: 0.4227 - val_accuracy: 0.8222\n",
      "Epoch 7/50\n",
      "358/358 [==============================] - 0s 568us/step - loss: 0.4616 - accuracy: 0.7849 - val_loss: 0.4213 - val_accuracy: 0.7778\n",
      "Epoch 8/50\n",
      "358/358 [==============================] - 0s 499us/step - loss: 0.4423 - accuracy: 0.7933 - val_loss: 0.4090 - val_accuracy: 0.7889\n",
      "Epoch 9/50\n",
      "358/358 [==============================] - 0s 532us/step - loss: 0.4327 - accuracy: 0.8017 - val_loss: 0.4021 - val_accuracy: 0.8222\n",
      "Epoch 10/50\n",
      "358/358 [==============================] - 0s 546us/step - loss: 0.4091 - accuracy: 0.7989 - val_loss: 0.3954 - val_accuracy: 0.8333\n",
      "Epoch 11/50\n",
      "358/358 [==============================] - 0s 532us/step - loss: 0.4086 - accuracy: 0.8184 - val_loss: 0.3868 - val_accuracy: 0.8111\n",
      "Epoch 12/50\n",
      "358/358 [==============================] - 0s 527us/step - loss: 0.3707 - accuracy: 0.8184 - val_loss: 0.3803 - val_accuracy: 0.8444\n",
      "Epoch 13/50\n",
      "358/358 [==============================] - 0s 563us/step - loss: 0.3881 - accuracy: 0.8268 - val_loss: 0.3907 - val_accuracy: 0.8444\n",
      "Epoch 14/50\n",
      "358/358 [==============================] - 0s 540us/step - loss: 0.3511 - accuracy: 0.8436 - val_loss: 0.3680 - val_accuracy: 0.8556\n",
      "Epoch 15/50\n",
      "358/358 [==============================] - 0s 540us/step - loss: 0.3579 - accuracy: 0.8296 - val_loss: 0.3570 - val_accuracy: 0.8444\n",
      "Epoch 16/50\n",
      "358/358 [==============================] - 0s 540us/step - loss: 0.3718 - accuracy: 0.8184 - val_loss: 0.3723 - val_accuracy: 0.8111\n",
      "Epoch 17/50\n",
      "358/358 [==============================] - 0s 540us/step - loss: 0.3419 - accuracy: 0.8436 - val_loss: 0.3651 - val_accuracy: 0.8333\n",
      "Epoch 18/50\n",
      "358/358 [==============================] - 0s 529us/step - loss: 0.3320 - accuracy: 0.8575 - val_loss: 0.3559 - val_accuracy: 0.8444\n",
      "Epoch 19/50\n",
      "358/358 [==============================] - 0s 529us/step - loss: 0.3150 - accuracy: 0.8631 - val_loss: 0.3463 - val_accuracy: 0.8333\n",
      "Epoch 20/50\n",
      "358/358 [==============================] - 0s 552us/step - loss: 0.3120 - accuracy: 0.8408 - val_loss: 0.3853 - val_accuracy: 0.8444\n",
      "Epoch 21/50\n",
      "358/358 [==============================] - 0s 532us/step - loss: 0.3154 - accuracy: 0.8520 - val_loss: 0.3515 - val_accuracy: 0.8444\n",
      "Epoch 22/50\n",
      "358/358 [==============================] - 0s 532us/step - loss: 0.2915 - accuracy: 0.8547 - val_loss: 0.3471 - val_accuracy: 0.8444\n",
      "Epoch 23/50\n",
      "358/358 [==============================] - 0s 535us/step - loss: 0.3128 - accuracy: 0.8492 - val_loss: 0.3320 - val_accuracy: 0.8667\n",
      "Epoch 24/50\n",
      "358/358 [==============================] - 0s 552us/step - loss: 0.2901 - accuracy: 0.8743 - val_loss: 0.3446 - val_accuracy: 0.8556\n",
      "Epoch 25/50\n",
      "358/358 [==============================] - 0s 538us/step - loss: 0.2886 - accuracy: 0.8659 - val_loss: 0.3428 - val_accuracy: 0.8444\n",
      "Epoch 26/50\n",
      "358/358 [==============================] - 0s 543us/step - loss: 0.2923 - accuracy: 0.8547 - val_loss: 0.3500 - val_accuracy: 0.8556\n",
      "Epoch 27/50\n",
      "358/358 [==============================] - 0s 543us/step - loss: 0.2673 - accuracy: 0.8799 - val_loss: 0.3398 - val_accuracy: 0.8889\n",
      "Epoch 28/50\n",
      "358/358 [==============================] - 0s 527us/step - loss: 0.2714 - accuracy: 0.8715 - val_loss: 0.3347 - val_accuracy: 0.8556\n",
      "Epoch 29/50\n",
      "358/358 [==============================] - 0s 552us/step - loss: 0.2603 - accuracy: 0.8939 - val_loss: 0.3499 - val_accuracy: 0.8222\n",
      "Epoch 30/50\n",
      "358/358 [==============================] - 0s 610us/step - loss: 0.2668 - accuracy: 0.8659 - val_loss: 0.3475 - val_accuracy: 0.8667\n",
      "Epoch 31/50\n",
      "358/358 [==============================] - 0s 543us/step - loss: 0.2413 - accuracy: 0.8855 - val_loss: 0.3388 - val_accuracy: 0.8333\n",
      "Epoch 32/50\n",
      "358/358 [==============================] - 0s 543us/step - loss: 0.2543 - accuracy: 0.8855 - val_loss: 0.3446 - val_accuracy: 0.8556\n",
      "Epoch 33/50\n",
      "358/358 [==============================] - 0s 543us/step - loss: 0.2577 - accuracy: 0.8799 - val_loss: 0.3331 - val_accuracy: 0.8333\n",
      "Epoch 34/50\n",
      "358/358 [==============================] - 0s 546us/step - loss: 0.2315 - accuracy: 0.8855 - val_loss: 0.3440 - val_accuracy: 0.8667\n",
      "Epoch 35/50\n",
      "358/358 [==============================] - 0s 543us/step - loss: 0.2149 - accuracy: 0.8855 - val_loss: 0.3572 - val_accuracy: 0.8556\n",
      "Epoch 36/50\n",
      "358/358 [==============================] - 0s 540us/step - loss: 0.2222 - accuracy: 0.8799 - val_loss: 0.3461 - val_accuracy: 0.8556\n",
      "Epoch 37/50\n",
      "358/358 [==============================] - 0s 527us/step - loss: 0.2401 - accuracy: 0.8855 - val_loss: 0.3369 - val_accuracy: 0.8778\n",
      "Epoch 38/50\n",
      "358/358 [==============================] - 0s 529us/step - loss: 0.2158 - accuracy: 0.9106 - val_loss: 0.3690 - val_accuracy: 0.8556\n",
      "Epoch 39/50\n",
      "358/358 [==============================] - 0s 532us/step - loss: 0.2312 - accuracy: 0.8855 - val_loss: 0.3725 - val_accuracy: 0.8444\n",
      "Epoch 40/50\n",
      "358/358 [==============================] - 0s 529us/step - loss: 0.1971 - accuracy: 0.9022 - val_loss: 0.3950 - val_accuracy: 0.8333\n",
      "Epoch 41/50\n",
      "358/358 [==============================] - 0s 527us/step - loss: 0.1996 - accuracy: 0.8994 - val_loss: 0.3907 - val_accuracy: 0.8667\n",
      "Epoch 42/50\n",
      "358/358 [==============================] - 0s 518us/step - loss: 0.2152 - accuracy: 0.9078 - val_loss: 0.3963 - val_accuracy: 0.8111\n",
      "Epoch 43/50\n",
      "358/358 [==============================] - 0s 527us/step - loss: 0.2004 - accuracy: 0.9022 - val_loss: 0.3932 - val_accuracy: 0.8444\n",
      "Epoch 44/50\n",
      "358/358 [==============================] - 0s 549us/step - loss: 0.2002 - accuracy: 0.9078 - val_loss: 0.3966 - val_accuracy: 0.8444\n",
      "Epoch 45/50\n",
      "358/358 [==============================] - 0s 507us/step - loss: 0.1918 - accuracy: 0.9078 - val_loss: 0.4546 - val_accuracy: 0.8333\n",
      "Epoch 46/50\n",
      "358/358 [==============================] - 0s 524us/step - loss: 0.1888 - accuracy: 0.9134 - val_loss: 0.4320 - val_accuracy: 0.8444\n",
      "Epoch 47/50\n",
      "358/358 [==============================] - 0s 507us/step - loss: 0.1925 - accuracy: 0.9078 - val_loss: 0.4189 - val_accuracy: 0.8111\n",
      "Epoch 48/50\n",
      "358/358 [==============================] - 0s 529us/step - loss: 0.1837 - accuracy: 0.9246 - val_loss: 0.4274 - val_accuracy: 0.8222\n",
      "Epoch 49/50\n",
      "358/358 [==============================] - 0s 521us/step - loss: 0.1873 - accuracy: 0.9134 - val_loss: 0.4336 - val_accuracy: 0.8222\n",
      "Epoch 50/50\n",
      "358/358 [==============================] - 0s 538us/step - loss: 0.1753 - accuracy: 0.9218 - val_loss: 0.4510 - val_accuracy: 0.8556\n"
     ]
    }
   ],
   "source": [
    "history = model.fit(X_train, y_train, validation_data=(X_test, y_test), epochs=50, batch_size=8)"
   ]
  },
  {
   "cell_type": "code",
   "execution_count": 150,
   "metadata": {},
   "outputs": [
    {
     "data": {
      "image/png": "[encoded data removed]",
      "text/plain": [
       "<Figure size 432x288 with 1 Axes>"
      ]
     },
     "metadata": {
      "needs_background": "light"
     },
     "output_type": "display_data"
    }
   ],
   "source": [
    "plt.plot(history.history['accuracy']) \n",
    "plt.plot(history.history['val_accuracy']) \n",
    "plt.title('model accuracy') \n",
    "plt.ylabel('accuracy')\n",
    "plt.xlabel('epoch') \n",
    "plt.legend(['train', 'test'], loc='upper left') \n",
    "plt.show()"
   ]
  },
  {
   "cell_type": "code",
   "execution_count": 151,
   "metadata": {},
   "outputs": [
    {
     "data": {
      "text/plain": [
       "array([[2.9100925e-02],\n",
       "       [9.9995148e-01],\n",
       "       [9.5669627e-03],\n",
       "       [7.8222358e-01],\n",
       "       [2.8428435e-04],\n",
       "       [9.7859740e-01],\n",
       "       [9.7580343e-01],\n",
       "       [1.5277267e-03],\n",
       "       [6.3986462e-01],\n",
       "       [1.6192794e-03],\n",
       "       [9.4192332e-01],\n",
       "       [1.0178086e-01],\n",
       "       [9.3586153e-01],\n",
       "       [9.5379817e-01],\n",
       "       [9.2486405e-01],\n",
       "       [9.5614254e-01],\n",
       "       [9.9995011e-01],\n",
       "       [5.5451471e-01],\n",
       "       [4.4609073e-01],\n",
       "       [4.1723251e-07],\n",
       "       [9.9876881e-01],\n",
       "       [9.9369919e-01],\n",
       "       [9.9856603e-01],\n",
       "       [6.2553048e-01],\n",
       "       [5.9604645e-07],\n",
       "       [6.2106901e-01],\n",
       "       [9.6303570e-01],\n",
       "       [6.9409609e-05],\n",
       "       [9.3586153e-01],\n",
       "       [7.3503554e-03],\n",
       "       [9.9751079e-01],\n",
       "       [2.9742974e-01],\n",
       "       [2.7522445e-04],\n",
       "       [6.6226709e-01],\n",
       "       [5.1557851e-01],\n",
       "       [9.9995148e-01],\n",
       "       [1.2414128e-02],\n",
       "       [4.1723251e-07],\n",
       "       [5.5245805e-01],\n",
       "       [3.2883883e-04],\n",
       "       [9.6792436e-01],\n",
       "       [0.0000000e+00],\n",
       "       [2.6436627e-01],\n",
       "       [0.0000000e+00],\n",
       "       [9.6138489e-01],\n",
       "       [2.3591310e-02],\n",
       "       [9.7387052e-01],\n",
       "       [5.4597354e-01],\n",
       "       [3.7915140e-02],\n",
       "       [1.5825033e-04],\n",
       "       [3.4752488e-04],\n",
       "       [9.5543253e-01],\n",
       "       [9.8932028e-01],\n",
       "       [2.3099911e-01],\n",
       "       [9.8551810e-01],\n",
       "       [6.1761659e-01],\n",
       "       [8.3088845e-01],\n",
       "       [2.9802322e-08],\n",
       "       [9.9334550e-01],\n",
       "       [5.8901972e-01],\n",
       "       [4.0705830e-01],\n",
       "       [9.9145126e-01],\n",
       "       [8.1271529e-03],\n",
       "       [9.9003005e-01],\n",
       "       [1.6093254e-06],\n",
       "       [3.9561781e-01],\n",
       "       [6.6828489e-01],\n",
       "       [2.1295130e-02],\n",
       "       [9.7937667e-01],\n",
       "       [6.7277431e-02],\n",
       "       [8.6219490e-01],\n",
       "       [4.8589072e-01],\n",
       "       [0.0000000e+00],\n",
       "       [9.9489820e-01],\n",
       "       [7.1525574e-07],\n",
       "       [1.0228395e-02],\n",
       "       [9.9837780e-06],\n",
       "       [5.5766732e-02],\n",
       "       [7.4865144e-01],\n",
       "       [3.0704468e-02],\n",
       "       [1.6206503e-04],\n",
       "       [9.5896912e-01],\n",
       "       [9.9003005e-01],\n",
       "       [4.5360065e-01],\n",
       "       [0.0000000e+00],\n",
       "       [7.7676773e-04],\n",
       "       [3.0212444e-01],\n",
       "       [2.7579725e-01],\n",
       "       [1.0799305e-05],\n",
       "       [9.5819980e-01]], dtype=float32)"
      ]
     },
     "execution_count": 151,
     "metadata": {},
     "output_type": "execute_result"
    }
   ],
   "source": [
    "y_pred_ann = model.predict(X_test)\n",
    "y_pred_ann"
   ]
  },
  {
   "cell_type": "code",
   "execution_count": 152,
   "metadata": {
    "scrolled": true
   },
   "outputs": [
    {
     "data": {
      "text/plain": [
       "array([[False],\n",
       "       [ True],\n",
       "       [False],\n",
       "       [ True],\n",
       "       [False],\n",
       "       [ True],\n",
       "       [ True],\n",
       "       [False],\n",
       "       [ True],\n",
       "       [False],\n",
       "       [ True],\n",
       "       [False],\n",
       "       [ True],\n",
       "       [ True],\n",
       "       [ True],\n",
       "       [ True],\n",
       "       [ True],\n",
       "       [ True],\n",
       "       [False],\n",
       "       [False],\n",
       "       [ True],\n",
       "       [ True],\n",
       "       [ True],\n",
       "       [ True],\n",
       "       [False],\n",
       "       [ True],\n",
       "       [ True],\n",
       "       [False],\n",
       "       [ True],\n",
       "       [False],\n",
       "       [ True],\n",
       "       [False],\n",
       "       [False],\n",
       "       [ True],\n",
       "       [ True],\n",
       "       [ True],\n",
       "       [False],\n",
       "       [False],\n",
       "       [ True],\n",
       "       [False],\n",
       "       [ True],\n",
       "       [False],\n",
       "       [False],\n",
       "       [False],\n",
       "       [ True],\n",
       "       [False],\n",
       "       [ True],\n",
       "       [ True],\n",
       "       [False],\n",
       "       [False],\n",
       "       [False],\n",
       "       [ True],\n",
       "       [ True],\n",
       "       [False],\n",
       "       [ True],\n",
       "       [ True],\n",
       "       [ True],\n",
       "       [False],\n",
       "       [ True],\n",
       "       [ True],\n",
       "       [False],\n",
       "       [ True],\n",
       "       [False],\n",
       "       [ True],\n",
       "       [False],\n",
       "       [False],\n",
       "       [ True],\n",
       "       [False],\n",
       "       [ True],\n",
       "       [False],\n",
       "       [ True],\n",
       "       [False],\n",
       "       [False],\n",
       "       [ True],\n",
       "       [False],\n",
       "       [False],\n",
       "       [False],\n",
       "       [False],\n",
       "       [ True],\n",
       "       [False],\n",
       "       [False],\n",
       "       [ True],\n",
       "       [ True],\n",
       "       [False],\n",
       "       [False],\n",
       "       [False],\n",
       "       [False],\n",
       "       [False],\n",
       "       [False],\n",
       "       [ True]])"
      ]
     },
     "execution_count": 152,
     "metadata": {},
     "output_type": "execute_result"
    }
   ],
   "source": [
    "y_pred_ann = (y_pred_ann > 0.5)\n",
    "y_pred_ann"
   ]
  },
  {
   "cell_type": "code",
   "execution_count": 153,
   "metadata": {},
   "outputs": [
    {
     "name": "stdout",
     "output_type": "stream",
     "text": [
      "[[38  6]\n",
      " [ 7 39]]\n"
     ]
    }
   ],
   "source": [
    "print(confusion_matrix(y_test, y_pred_ann))"
   ]
  },
  {
   "cell_type": "code",
   "execution_count": 154,
   "metadata": {},
   "outputs": [
    {
     "name": "stdout",
     "output_type": "stream",
     "text": [
      "              precision    recall  f1-score   support\n",
      "\n",
      "           0       0.84      0.86      0.85        44\n",
      "           1       0.87      0.85      0.86        46\n",
      "\n",
      "    accuracy                           0.86        90\n",
      "   macro avg       0.86      0.86      0.86        90\n",
      "weighted avg       0.86      0.86      0.86        90\n",
      "\n"
     ]
    }
   ],
   "source": [
    "print(classification_report(y_test, y_pred_ann))"
   ]
  },
  {
   "cell_type": "code",
   "execution_count": 155,
   "metadata": {},
   "outputs": [
    {
     "name": "stdout",
     "output_type": "stream",
     "text": [
      "0.8555555555555555\n"
     ]
    }
   ],
   "source": [
    "print(accuracy_score(y_test, y_pred_ann))"
   ]
  },
  {
   "cell_type": "code",
   "execution_count": 156,
   "metadata": {},
   "outputs": [
    {
     "data": {
      "image/png": "[encoded data removed]",
      "text/plain": [
       "<Figure size 432x288 with 2 Axes>"
      ]
     },
     "metadata": {
      "needs_background": "light"
     },
     "output_type": "display_data"
    }
   ],
   "source": [
    "skplt.metrics.plot_confusion_matrix(y_test, y_pred_ann, normalize=True)\n",
    "plt.show()"
   ]
  },
  {
   "cell_type": "code",
   "execution_count": 157,
   "metadata": {},
   "outputs": [
    {
     "data": {
      "image/png": "[encoded data removed]",
      "text/plain": [
       "<Figure size 432x288 with 1 Axes>"
      ]
     },
     "metadata": {
      "needs_background": "light"
     },
     "output_type": "display_data"
    }
   ],
   "source": [
    "ann_fpr, ann_tpr, _ = roc_curve(y_test,y_pred_ann)\n",
    "roc_auc_ann = roc_auc_score(y_test, y_pred_ann)\n",
    "# plot the roc curve for the model\n",
    "pyplot.plot(ann_fpr, ann_tpr, linestyle='-', label='ANN -- (area = %0.3f)' % roc_auc_ann)\n",
    "# axis labels\n",
    "pyplot.xlabel('False Positive Rate')\n",
    "pyplot.ylabel('True Positive Rate')\n",
    "# show the legend\n",
    "pyplot.legend()\n",
    "# show the plot\n",
    "pyplot.show()"
   ]
  },
  {
   "cell_type": "code",
   "execution_count": 287,
   "metadata": {},
   "outputs": [
    {
     "data": {
      "image/png": "[encoded data removed]",
      "text/plain": [
       "<Figure size 432x288 with 1 Axes>"
      ]
     },
     "metadata": {
      "needs_background": "light"
     },
     "output_type": "display_data"
    }
   ],
   "source": [
    "ann_precision, ann_recall, thresholds = precision_recall_curve(y_test,y_pred_ann)\n",
    "pr_auc_ann=auc(ann_recall, ann_precision)\n",
    "pyplot.plot(ann_recall, ann_precision, linestyle='--', label='ANN -- (area = %0.3f)' % pr_auc_ann)\n",
    "# axis labels\n",
    "pyplot.xlabel('Recall')\n",
    "pyplot.ylabel('Precision')\n",
    "# show the legend\n",
    "pyplot.legend()\n",
    "# show the plot\n",
    "pyplot.show()"
   ]
  },
  {
   "cell_type": "markdown",
   "metadata": {},
   "source": [
    "## Deep Learning CNN - Model -3"
   ]
  },
  {
   "cell_type": "code",
   "execution_count": 217,
   "metadata": {},
   "outputs": [
    {
     "name": "stdout",
     "output_type": "stream",
     "text": [
      "<class 'pandas.core.frame.DataFrame'>\n",
      "RangeIndex: 448 entries, 0 to 447\n",
      "Data columns (total 96 columns):\n",
      " #   Column                          Non-Null Count  Dtype\n",
      "---  ------                          --------------  -----\n",
      " 0   Status                          448 non-null    int64\n",
      " 1   Product_Product A               448 non-null    uint8\n",
      " 2   Product_Product B               448 non-null    uint8\n",
      " 3   Product_Product C               448 non-null    uint8\n",
      " 4   Product_Product D               448 non-null    uint8\n",
      " 5   Product_Product E               448 non-null    uint8\n",
      " 6   Product_Product F               448 non-null    uint8\n",
      " 7   Product_Product G               448 non-null    uint8\n",
      " 8   Product_Product H               448 non-null    uint8\n",
      " 9   Product_Product I               448 non-null    uint8\n",
      " 10  Product_Product J               448 non-null    uint8\n",
      " 11  Product_Product K               448 non-null    uint8\n",
      " 12  Product_Product L               448 non-null    uint8\n",
      " 13  Product_Product N               448 non-null    uint8\n",
      " 14  Product_Product P               448 non-null    uint8\n",
      " 15  Seller_Seller 1                 448 non-null    uint8\n",
      " 16  Seller_Seller 10                448 non-null    uint8\n",
      " 17  Seller_Seller 11                448 non-null    uint8\n",
      " 18  Seller_Seller 12                448 non-null    uint8\n",
      " 19  Seller_Seller 13                448 non-null    uint8\n",
      " 20  Seller_Seller 14                448 non-null    uint8\n",
      " 21  Seller_Seller 15                448 non-null    uint8\n",
      " 22  Seller_Seller 16                448 non-null    uint8\n",
      " 23  Seller_Seller 17                448 non-null    uint8\n",
      " 24  Seller_Seller 2                 448 non-null    uint8\n",
      " 25  Seller_Seller 20                448 non-null    uint8\n",
      " 26  Seller_Seller 3                 448 non-null    uint8\n",
      " 27  Seller_Seller 4                 448 non-null    uint8\n",
      " 28  Seller_Seller 5                 448 non-null    uint8\n",
      " 29  Seller_Seller 6                 448 non-null    uint8\n",
      " 30  Seller_Seller 7                 448 non-null    uint8\n",
      " 31  Seller_Seller 8                 448 non-null    uint8\n",
      " 32  Seller_Seller 9                 448 non-null    uint8\n",
      " 33  Authority_High                  448 non-null    uint8\n",
      " 34  Authority_Low                   448 non-null    uint8\n",
      " 35  Authority_Mid                   448 non-null    uint8\n",
      " 36  Comp_size_Big                   448 non-null    uint8\n",
      " 37  Comp_size_Mid                   448 non-null    uint8\n",
      " 38  Comp_size_Small                 448 non-null    uint8\n",
      " 39  Competitors_No                  448 non-null    uint8\n",
      " 40  Competitors_Unknown             448 non-null    uint8\n",
      " 41  Competitors_Yes                 448 non-null    uint8\n",
      " 42  Purch_dept_No                   448 non-null    uint8\n",
      " 43  Purch_dept_Unknown              448 non-null    uint8\n",
      " 44  Purch_dept_Yes                  448 non-null    uint8\n",
      " 45  Partnership_No                  448 non-null    uint8\n",
      " 46  Partnership_Yes                 448 non-null    uint8\n",
      " 47  Budgt_alloc_No                  448 non-null    uint8\n",
      " 48  Budgt_alloc_Unknown             448 non-null    uint8\n",
      " 49  Budgt_alloc_Yes                 448 non-null    uint8\n",
      " 50  Forml_tend_No                   448 non-null    uint8\n",
      " 51  Forml_tend_Yes                  448 non-null    uint8\n",
      " 52  RFI_No                          448 non-null    uint8\n",
      " 53  RFI_Yes                         448 non-null    uint8\n",
      " 54  RFP_No                          448 non-null    uint8\n",
      " 55  RFP_Yes                         448 non-null    uint8\n",
      " 56  Growth_Growth                   448 non-null    uint8\n",
      " 57  Growth_Slow down                448 non-null    uint8\n",
      " 58  Growth_Stable                   448 non-null    uint8\n",
      " 59  Growth_Unknown                  448 non-null    uint8\n",
      " 60  Posit_statm_Neutral             448 non-null    uint8\n",
      " 61  Posit_statm_No                  448 non-null    uint8\n",
      " 62  Posit_statm_Yes                 448 non-null    uint8\n",
      " 63  Source_Direct mail              448 non-null    uint8\n",
      " 64  Source_Event                    448 non-null    uint8\n",
      " 65  Source_Joint past               448 non-null    uint8\n",
      " 66  Source_Media                    448 non-null    uint8\n",
      " 67  Source_Online form              448 non-null    uint8\n",
      " 68  Source_Other                    448 non-null    uint8\n",
      " 69  Source_Referral                 448 non-null    uint8\n",
      " 70  Source_Unknown                  448 non-null    uint8\n",
      " 71  Client_Current                  448 non-null    uint8\n",
      " 72  Client_New                      448 non-null    uint8\n",
      " 73  Client_Past                     448 non-null    uint8\n",
      " 74  Scope_Clear                     448 non-null    uint8\n",
      " 75  Scope_Few questions             448 non-null    uint8\n",
      " 76  Scope_Low                       448 non-null    uint8\n",
      " 77  Strat_deal_Average important    448 non-null    uint8\n",
      " 78  Strat_deal_Unimportant          448 non-null    uint8\n",
      " 79  Strat_deal_Very important       448 non-null    uint8\n",
      " 80  Cross_sale_No                   448 non-null    uint8\n",
      " 81  Cross_sale_Yes                  448 non-null    uint8\n",
      " 82  Up_sale_No                      448 non-null    uint8\n",
      " 83  Up_sale_Yes                     448 non-null    uint8\n",
      " 84  Deal_type_Consulting            448 non-null    uint8\n",
      " 85  Deal_type_Maintenance           448 non-null    uint8\n",
      " 86  Deal_type_Project               448 non-null    uint8\n",
      " 87  Deal_type_Solution              448 non-null    uint8\n",
      " 88  Needs_def_Info gathering        448 non-null    uint8\n",
      " 89  Needs_def_No                    448 non-null    uint8\n",
      " 90  Needs_def_Poor                  448 non-null    uint8\n",
      " 91  Needs_def_Yes                   448 non-null    uint8\n",
      " 92  Att_t_client_Bad client         448 non-null    uint8\n",
      " 93  Att_t_client_First deal         448 non-null    uint8\n",
      " 94  Att_t_client_Normal             448 non-null    uint8\n",
      " 95  Att_t_client_Strategic account  448 non-null    uint8\n",
      "dtypes: int64(1), uint8(95)\n",
      "memory usage: 45.2 KB\n"
     ]
    }
   ],
   "source": [
    "data.info()"
   ]
  },
  {
   "cell_type": "code",
   "execution_count": 268,
   "metadata": {},
   "outputs": [],
   "source": [
    "X = data.drop(\"Status\", axis= 1)\n",
    "y = data.Status"
   ]
  },
  {
   "cell_type": "code",
   "execution_count": 269,
   "metadata": {},
   "outputs": [],
   "source": [
    "from sklearn.preprocessing import StandardScaler\n",
    "ss = StandardScaler()\n",
    "X = ss.fit_transform(X)\n",
    "X_train, X_test, y_train, y_test = train_test_split(X, y, test_size= 0.2, random_state= 42)\n",
    "#y_train_onehot = pd.get_dummies(y_train).values"
   ]
  },
  {
   "cell_type": "code",
   "execution_count": 270,
   "metadata": {},
   "outputs": [],
   "source": [
    "img_rows, img_cols = 19,5\n",
    "nb_filters = 1000\n",
    "pool_size = (1, 1)\n",
    "kernel_size = (1, 1)\n",
    "X_train = X_train.reshape(X_train.shape[0], img_rows, img_cols, 1)\n",
    "X_test = X_test.reshape(X_test.shape[0], img_rows, img_cols, 1)\n",
    "input_shape = (img_rows, img_cols, 1)"
   ]
  },
  {
   "cell_type": "code",
   "execution_count": 271,
   "metadata": {},
   "outputs": [
    {
     "name": "stderr",
     "output_type": "stream",
     "text": [
      "f:\\anaconda3\\envs\\dl1\\lib\\site-packages\\ipykernel_launcher.py:4: UserWarning: Update your `Conv2D` call to the Keras 2 API: `Conv2D(1000, (1, 1), input_shape=(19, 5, 1), padding=\"valid\")`\n",
      "  after removing the cwd from sys.path.\n",
      "f:\\anaconda3\\envs\\dl1\\lib\\site-packages\\ipykernel_launcher.py:6: UserWarning: Update your `Conv2D` call to the Keras 2 API: `Conv2D(1000, (1, 1))`\n",
      "  \n"
     ]
    }
   ],
   "source": [
    "model = Sequential()\n",
    "model.add(Convolution2D(nb_filters, kernel_size[0], kernel_size[1],\n",
    "                        border_mode='valid',\n",
    "                        input_shape=input_shape))\n",
    "model.add(Activation('relu'))\n",
    "model.add(Convolution2D(nb_filters, kernel_size[0], kernel_size[1]))\n",
    "model.add(Activation('relu'))\n",
    "model.add(MaxPooling2D(pool_size=pool_size))\n",
    "model.add(Dropout(0.25))\n",
    "model.add(Flatten())\n",
    "model.add(Dense(128))\n",
    "model.add(Activation('tanh'))\n",
    "model.add(Dropout(0.25))\n",
    "model.add(Dense(1))\n",
    "model.add(Activation('sigmoid'))"
   ]
  },
  {
   "cell_type": "code",
   "execution_count": 272,
   "metadata": {},
   "outputs": [],
   "source": [
    "model.compile(loss='mean_squared_error', optimizer='Nadam', metrics=['accuracy'])"
   ]
  },
  {
   "cell_type": "code",
   "execution_count": 273,
   "metadata": {},
   "outputs": [
    {
     "name": "stdout",
     "output_type": "stream",
     "text": [
      "Epoch 1/60\n",
      "358/358 [==============================] - 1s 3ms/step - loss: 0.3822 - accuracy: 0.5922\n",
      "Epoch 2/60\n",
      "358/358 [==============================] - 1s 2ms/step - loss: 0.2170 - accuracy: 0.7486\n",
      "Epoch 3/60\n",
      "358/358 [==============================] - 1s 2ms/step - loss: 0.1859 - accuracy: 0.7821\n",
      "Epoch 4/60\n",
      "358/358 [==============================] - 1s 2ms/step - loss: 0.1625 - accuracy: 0.8073\n",
      "Epoch 5/60\n",
      "358/358 [==============================] - 1s 2ms/step - loss: 0.1557 - accuracy: 0.8101\n",
      "Epoch 6/60\n",
      "358/358 [==============================] - 1s 2ms/step - loss: 0.1442 - accuracy: 0.8128\n",
      "Epoch 7/60\n",
      "358/358 [==============================] - 1s 2ms/step - loss: 0.1453 - accuracy: 0.8156\n",
      "Epoch 8/60\n",
      "358/358 [==============================] - 1s 2ms/step - loss: 0.1250 - accuracy: 0.8268\n",
      "Epoch 9/60\n",
      "358/358 [==============================] - 1s 2ms/step - loss: 0.1247 - accuracy: 0.8324\n",
      "Epoch 10/60\n",
      "358/358 [==============================] - 1s 2ms/step - loss: 0.1096 - accuracy: 0.8547\n",
      "Epoch 11/60\n",
      "358/358 [==============================] - 1s 2ms/step - loss: 0.1154 - accuracy: 0.8464\n",
      "Epoch 12/60\n",
      "358/358 [==============================] - 1s 2ms/step - loss: 0.1075 - accuracy: 0.8603\n",
      "Epoch 13/60\n",
      "358/358 [==============================] - 1s 2ms/step - loss: 0.1056 - accuracy: 0.8603\n",
      "Epoch 14/60\n",
      "358/358 [==============================] - 1s 2ms/step - loss: 0.0985 - accuracy: 0.8687\n",
      "Epoch 15/60\n",
      "358/358 [==============================] - 1s 2ms/step - loss: 0.0966 - accuracy: 0.8520\n",
      "Epoch 16/60\n",
      "358/358 [==============================] - 1s 2ms/step - loss: 0.1078 - accuracy: 0.8631\n",
      "Epoch 17/60\n",
      "358/358 [==============================] - 1s 2ms/step - loss: 0.1010 - accuracy: 0.8547\n",
      "Epoch 18/60\n",
      "358/358 [==============================] - 1s 2ms/step - loss: 0.0981 - accuracy: 0.8575\n",
      "Epoch 19/60\n",
      "358/358 [==============================] - 1s 2ms/step - loss: 0.0941 - accuracy: 0.8743\n",
      "Epoch 20/60\n",
      "358/358 [==============================] - 1s 2ms/step - loss: 0.0972 - accuracy: 0.8547\n",
      "Epoch 21/60\n",
      "358/358 [==============================] - 1s 2ms/step - loss: 0.0926 - accuracy: 0.8855\n",
      "Epoch 22/60\n",
      "358/358 [==============================] - 1s 2ms/step - loss: 0.0891 - accuracy: 0.8771\n",
      "Epoch 23/60\n",
      "358/358 [==============================] - 1s 2ms/step - loss: 0.0919 - accuracy: 0.8743\n",
      "Epoch 24/60\n",
      "358/358 [==============================] - 1s 2ms/step - loss: 0.0922 - accuracy: 0.8827\n",
      "Epoch 25/60\n",
      "358/358 [==============================] - 1s 2ms/step - loss: 0.0924 - accuracy: 0.8799\n",
      "Epoch 26/60\n",
      "358/358 [==============================] - 1s 2ms/step - loss: 0.0786 - accuracy: 0.8994\n",
      "Epoch 27/60\n",
      "358/358 [==============================] - 1s 2ms/step - loss: 0.0928 - accuracy: 0.8687\n",
      "Epoch 28/60\n",
      "358/358 [==============================] - 1s 2ms/step - loss: 0.0841 - accuracy: 0.8883\n",
      "Epoch 29/60\n",
      "358/358 [==============================] - 1s 2ms/step - loss: 0.0876 - accuracy: 0.8603\n",
      "Epoch 30/60\n",
      "358/358 [==============================] - 1s 2ms/step - loss: 0.0900 - accuracy: 0.8715\n",
      "Epoch 31/60\n",
      "358/358 [==============================] - 1s 2ms/step - loss: 0.0877 - accuracy: 0.8715\n",
      "Epoch 32/60\n",
      "358/358 [==============================] - 1s 2ms/step - loss: 0.0885 - accuracy: 0.8799\n",
      "Epoch 33/60\n",
      "358/358 [==============================] - 1s 2ms/step - loss: 0.0793 - accuracy: 0.9050\n",
      "Epoch 34/60\n",
      "358/358 [==============================] - 1s 2ms/step - loss: 0.0895 - accuracy: 0.8659\n",
      "Epoch 35/60\n",
      "358/358 [==============================] - 1s 2ms/step - loss: 0.0910 - accuracy: 0.8687\n",
      "Epoch 36/60\n",
      "358/358 [==============================] - 1s 2ms/step - loss: 0.0866 - accuracy: 0.8883\n",
      "Epoch 37/60\n",
      "358/358 [==============================] - 1s 2ms/step - loss: 0.0872 - accuracy: 0.8771\n",
      "Epoch 38/60\n",
      "358/358 [==============================] - 1s 2ms/step - loss: 0.0823 - accuracy: 0.8883: 0s - loss: 0.123\n",
      "Epoch 39/60\n",
      "358/358 [==============================] - 1s 2ms/step - loss: 0.0780 - accuracy: 0.8883\n",
      "Epoch 40/60\n",
      "358/358 [==============================] - 1s 2ms/step - loss: 0.0790 - accuracy: 0.8994\n",
      "Epoch 41/60\n",
      "358/358 [==============================] - 1s 2ms/step - loss: 0.0869 - accuracy: 0.8855\n",
      "Epoch 42/60\n",
      "358/358 [==============================] - 1s 2ms/step - loss: 0.0805 - accuracy: 0.8883\n",
      "Epoch 43/60\n",
      "358/358 [==============================] - 1s 2ms/step - loss: 0.0740 - accuracy: 0.8911\n",
      "Epoch 44/60\n",
      "358/358 [==============================] - 1s 2ms/step - loss: 0.0785 - accuracy: 0.9050\n",
      "Epoch 45/60\n",
      "358/358 [==============================] - 1s 2ms/step - loss: 0.0818 - accuracy: 0.8966\n",
      "Epoch 46/60\n",
      "358/358 [==============================] - 1s 2ms/step - loss: 0.0778 - accuracy: 0.8911\n",
      "Epoch 47/60\n",
      "358/358 [==============================] - 1s 2ms/step - loss: 0.0857 - accuracy: 0.8855\n",
      "Epoch 48/60\n",
      "358/358 [==============================] - 1s 2ms/step - loss: 0.0781 - accuracy: 0.8799\n",
      "Epoch 49/60\n",
      "358/358 [==============================] - 1s 2ms/step - loss: 0.0751 - accuracy: 0.9078\n",
      "Epoch 50/60\n",
      "358/358 [==============================] - 1s 2ms/step - loss: 0.0773 - accuracy: 0.8966\n",
      "Epoch 51/60\n",
      "358/358 [==============================] - 1s 2ms/step - loss: 0.0735 - accuracy: 0.8994\n",
      "Epoch 52/60\n",
      "358/358 [==============================] - 1s 2ms/step - loss: 0.0857 - accuracy: 0.8771\n",
      "Epoch 53/60\n",
      "358/358 [==============================] - 1s 2ms/step - loss: 0.0873 - accuracy: 0.8911\n",
      "Epoch 54/60\n",
      "358/358 [==============================] - 1s 2ms/step - loss: 0.0762 - accuracy: 0.8966\n",
      "Epoch 55/60\n",
      "358/358 [==============================] - 1s 2ms/step - loss: 0.0831 - accuracy: 0.8715\n",
      "Epoch 56/60\n",
      "358/358 [==============================] - 1s 2ms/step - loss: 0.0792 - accuracy: 0.8827\n",
      "Epoch 57/60\n",
      "358/358 [==============================] - 1s 2ms/step - loss: 0.0885 - accuracy: 0.8771\n",
      "Epoch 58/60\n",
      "358/358 [==============================] - 1s 2ms/step - loss: 0.0750 - accuracy: 0.8939\n",
      "Epoch 59/60\n",
      "358/358 [==============================] - 1s 2ms/step - loss: 0.0759 - accuracy: 0.8966\n",
      "Epoch 60/60\n",
      "358/358 [==============================] - 1s 2ms/step - loss: 0.0752 - accuracy: 0.8883\n"
     ]
    },
    {
     "data": {
      "text/plain": [
       "<keras.callbacks.callbacks.History at 0x244c8d83630>"
      ]
     },
     "execution_count": 273,
     "metadata": {},
     "output_type": "execute_result"
    }
   ],
   "source": [
    "model.fit(X_train, y_train, epochs=60)"
   ]
  },
  {
   "cell_type": "code",
   "execution_count": 274,
   "metadata": {},
   "outputs": [],
   "source": [
    "y_pred_cnn_f = model.predict(X_test)"
   ]
  },
  {
   "cell_type": "code",
   "execution_count": 275,
   "metadata": {},
   "outputs": [
    {
     "name": "stdout",
     "output_type": "stream",
     "text": [
      "(90, 1)\n"
     ]
    }
   ],
   "source": [
    "print(y_pred_cnn_f.shape)"
   ]
  },
  {
   "cell_type": "code",
   "execution_count": 279,
   "metadata": {},
   "outputs": [],
   "source": [
    "y_pred_cnn = (y_pred_cnn_f > 0.5)\n",
    "#y_pred_cnn1=y_pred_cnn[:,1]\n",
    "#y_pred_cnn0=y_pred_cnn[:,0]"
   ]
  },
  {
   "cell_type": "code",
   "execution_count": 280,
   "metadata": {},
   "outputs": [
    {
     "name": "stdout",
     "output_type": "stream",
     "text": [
      "[[34 10]\n",
      " [ 7 39]]\n"
     ]
    }
   ],
   "source": [
    "print(confusion_matrix(y_test, y_pred_cnn))\n",
    "#print(confusion_matrix(y_test, y_pred_cnn0))"
   ]
  },
  {
   "cell_type": "code",
   "execution_count": 282,
   "metadata": {},
   "outputs": [
    {
     "name": "stdout",
     "output_type": "stream",
     "text": [
      "              precision    recall  f1-score   support\n",
      "\n",
      "           0       0.83      0.77      0.80        44\n",
      "           1       0.80      0.85      0.82        46\n",
      "\n",
      "    accuracy                           0.81        90\n",
      "   macro avg       0.81      0.81      0.81        90\n",
      "weighted avg       0.81      0.81      0.81        90\n",
      "\n"
     ]
    }
   ],
   "source": [
    "print(classification_report(y_test, y_pred_cnn))"
   ]
  },
  {
   "cell_type": "code",
   "execution_count": 283,
   "metadata": {},
   "outputs": [
    {
     "name": "stdout",
     "output_type": "stream",
     "text": [
      "0.8111111111111111\n"
     ]
    }
   ],
   "source": [
    "print(accuracy_score(y_test, y_pred_cnn))"
   ]
  },
  {
   "cell_type": "code",
   "execution_count": 284,
   "metadata": {},
   "outputs": [
    {
     "data": {
      "image/png": "[encoded data removed]",
      "text/plain": [
       "<Figure size 432x288 with 2 Axes>"
      ]
     },
     "metadata": {
      "needs_background": "light"
     },
     "output_type": "display_data"
    }
   ],
   "source": [
    "skplt.metrics.plot_confusion_matrix(y_test, y_pred_cnn, normalize=True)\n",
    "plt.show()"
   ]
  },
  {
   "cell_type": "code",
   "execution_count": 285,
   "metadata": {},
   "outputs": [
    {
     "data": {
      "image/png": "[encoded data removed]",
      "text/plain": [
       "<Figure size 432x288 with 1 Axes>"
      ]
     },
     "metadata": {
      "needs_background": "light"
     },
     "output_type": "display_data"
    }
   ],
   "source": [
    "cnn_fpr, cnn_tpr, _ = roc_curve(y_test,y_pred_cnn)\n",
    "roc_auc_cnn = roc_auc_score(y_test, y_pred_cnn)\n",
    "# plot the roc curve for the model\n",
    "pyplot.plot(cnn_fpr, cnn_tpr, linestyle='-', label='CNN -- (area = %0.3f)' % roc_auc_cnn)\n",
    "# axis labels\n",
    "pyplot.xlabel('False Positive Rate')\n",
    "pyplot.ylabel('True Positive Rate')\n",
    "# show the legend\n",
    "pyplot.legend()\n",
    "# show the plot\n",
    "pyplot.show()"
   ]
  },
  {
   "cell_type": "code",
   "execution_count": 286,
   "metadata": {},
   "outputs": [
    {
     "data": {
      "image/png": "[encoded data removed]",
      "text/plain": [
       "<Figure size 432x288 with 1 Axes>"
      ]
     },
     "metadata": {
      "needs_background": "light"
     },
     "output_type": "display_data"
    }
   ],
   "source": [
    "cnn_precision, cnn_recall, thresholds = precision_recall_curve(y_test,y_pred_cnn)\n",
    "pr_auc_cnn=auc(cnn_recall, cnn_precision)\n",
    "pyplot.plot(cnn_recall, cnn_precision, linestyle='--', label='CNN -- (area = %0.3f)' % pr_auc_cnn)\n",
    "# axis labels\n",
    "pyplot.xlabel('Recall')\n",
    "pyplot.ylabel('Precision')\n",
    "# show the legend\n",
    "pyplot.legend()\n",
    "# show the plot\n",
    "pyplot.show()"
   ]
  },
  {
   "cell_type": "markdown",
   "metadata": {},
   "source": [
    "## GCN "
   ]
  },
  {
   "cell_type": "code",
   "execution_count": 657,
   "metadata": {},
   "outputs": [],
   "source": [
    "import numpy as np \n",
    "import pandas as pd \n",
    "from matplotlib import pyplot as plt \n",
    "from sklearn.model_selection import train_test_split \n",
    "from sklearn.metrics import classification_report, confusion_matrix, accuracy_score"
   ]
  },
  {
   "cell_type": "code",
   "execution_count": 658,
   "metadata": {},
   "outputs": [],
   "source": [
    "from sklearn.datasets import make_classification\n",
    "from sklearn.metrics import roc_curve\n",
    "from sklearn.metrics import roc_auc_score\n",
    "from matplotlib import pyplot\n",
    "from sklearn.metrics import precision_recall_curve\n",
    "from sklearn.metrics import f1_score\n",
    "from sklearn.metrics import auc"
   ]
  },
  {
   "cell_type": "code",
   "execution_count": 659,
   "metadata": {},
   "outputs": [
    {
     "name": "stdout",
     "output_type": "stream",
     "text": [
      "   node churn status\n",
      "0     0   Won    Won\n",
      "1     1  Sale    Won\n",
      "2     2  Sale    Won\n",
      "3     3  Sale    Won\n",
      "4     4  Sale    Won\n"
     ]
    }
   ],
   "source": [
    "# Read data from file 'filename.csv' \n",
    "data_node = pd.read_csv(\"crm.attributes.csv\") \n",
    "# Preview the first 5 lines of the loaded data \n",
    "print(data_node.head())"
   ]
  },
  {
   "cell_type": "code",
   "execution_count": 660,
   "metadata": {},
   "outputs": [
    {
     "name": "stdout",
     "output_type": "stream",
     "text": [
      "0    0\n",
      "1    1\n",
      "2    2\n",
      "3    3\n",
      "4    4\n",
      "Name: node, dtype: int64\n"
     ]
    }
   ],
   "source": [
    "df_admin=data_node.loc[data_node['status'] == 'Won', 'node']\n",
    "print(df_admin.head())"
   ]
  },
  {
   "cell_type": "code",
   "execution_count": 661,
   "metadata": {},
   "outputs": [
    {
     "data": {
      "text/plain": [
       "177"
      ]
     },
     "execution_count": 661,
     "metadata": {},
     "output_type": "execute_result"
    }
   ],
   "source": [
    "#list(df_admin.columns)\n",
    "len(df_admin)"
   ]
  },
  {
   "cell_type": "markdown",
   "metadata": {},
   "source": [
    "### Data Preparation"
   ]
  },
  {
   "cell_type": "code",
   "execution_count": 662,
   "metadata": {},
   "outputs": [],
   "source": [
    "from collections import namedtuple\n",
    "from networkx import read_edgelist, set_node_attributes\n",
    "from pandas import read_csv, Series\n",
    "from numpy import array\n",
    "\n",
    "DataSet = namedtuple(\n",
    "    'DataSet',\n",
    "    field_names=['X_train', 'y_train', 'X_test', 'y_test', 'network']\n",
    ")\n",
    "\n",
    "def load_crm_data():\n",
    "    network = read_edgelist(\n",
    "        'crm.edgelist',\n",
    "        nodetype=int)\n",
    "\n",
    "    attributes = read_csv(\n",
    "        'crm.attributes.csv',\n",
    "        index_col=['node'])\n",
    "\n",
    "    for attribute in attributes.columns.values:\n",
    "        set_node_attributes(\n",
    "            network,\n",
    "            values=Series(\n",
    "                attributes[attribute],\n",
    "                index=attributes.index).to_dict(),\n",
    "            name=attribute\n",
    "        )\n",
    "\n",
    "    X_train, y_train = map(array, zip(*[\n",
    "        ([node], data['churn'] == 'Won')\n",
    "        for node, data in network.nodes(data=True)\n",
    "        if data['churn'] in {'Won', 'Lost'}\n",
    "    ]))\n",
    "    X_test, y_test = map(array, zip(*[\n",
    "        ([node], data['status'] == 'Won')\n",
    "        for node, data in network.nodes(data=True)\n",
    "        if data['churn'] == 'Sale'\n",
    "    ]))\n",
    "    \n",
    "    return DataSet(\n",
    "        X_train, y_train,\n",
    "        X_test, y_test,\n",
    "        network)"
   ]
  },
  {
   "cell_type": "code",
   "execution_count": 663,
   "metadata": {},
   "outputs": [],
   "source": [
    "from networkx import to_numpy_matrix, degree_centrality, betweenness_centrality, shortest_path_length\n",
    "import mxnet.ndarray as nd\n",
    "\n",
    "crm = load_crm_data()\n",
    "\n",
    "A = to_numpy_matrix(crm.network)\n",
    "A = nd.array(A)\n",
    "\n",
    "X_train = crm.X_train.flatten()\n",
    "y_train = crm.y_train\n",
    "X_test = crm.X_test.flatten()\n",
    "y_test = crm.y_test"
   ]
  },
  {
   "cell_type": "markdown",
   "metadata": {},
   "source": [
    "### Layer Implementations"
   ]
  },
  {
   "cell_type": "code",
   "execution_count": 664,
   "metadata": {},
   "outputs": [],
   "source": [
    "from mxnet.gluon import HybridBlock\n",
    "from mxnet.gluon.nn import Activation\n",
    "import mxnet.ndarray as nd\n",
    "\n",
    "class SpectralRule(HybridBlock):\n",
    "    def __init__(self, A, in_units, out_units, activation='relu', **kwargs):\n",
    "        super().__init__(**kwargs)\n",
    "        I = nd.eye(*A.shape)\n",
    "        A_hat = A.copy() + I\n",
    "\n",
    "        D = nd.sum(A_hat, axis=0)\n",
    "        D_inv = D**-0.5\n",
    "        D_inv = nd.diag(D_inv)\n",
    "\n",
    "        A_hat = D_inv * A_hat * D_inv\n",
    "        \n",
    "        self.in_units, self.out_units = in_units, out_units\n",
    "        \n",
    "        with self.name_scope():\n",
    "            self.A_hat = self.params.get_constant('A_hat', A_hat)\n",
    "            self.W = self.params.get(\n",
    "                'W', shape=(self.in_units, self.out_units)\n",
    "            )\n",
    "            if activation == 'identity':\n",
    "                self.activation = lambda X: X\n",
    "            else:\n",
    "                self.activation = Activation(activation)\n",
    "\n",
    "    def hybrid_forward(self, F, X, A_hat, W):\n",
    "        aggregate = F.dot(A_hat, X)\n",
    "        propagate = self.activation(\n",
    "            F.dot(aggregate, W))\n",
    "        return propagate"
   ]
  },
  {
   "cell_type": "code",
   "execution_count": 665,
   "metadata": {},
   "outputs": [],
   "source": [
    "class LogisticRegressor(HybridBlock):\n",
    "    def __init__(self, in_units, **kwargs):\n",
    "        super().__init__(**kwargs)\n",
    "        with self.name_scope():\n",
    "            self.w = self.params.get(\n",
    "                'w', shape=(1, in_units)\n",
    "            )\n",
    "\n",
    "            self.b = self.params.get(\n",
    "                'b', shape=(1, 1)\n",
    "            )\n",
    "\n",
    "    def hybrid_forward(self, F, X, w, b):\n",
    "        # Change shape of b to comply with MXnet addition API\n",
    "        b = F.broadcast_axis(b, axis=(0,1), size=(367, 1))\n",
    "        y = F.dot(X, w, transpose_b=True) + b\n",
    "\n",
    "        return F.sigmoid(y)"
   ]
  },
  {
   "cell_type": "markdown",
   "metadata": {},
   "source": [
    "### Train and Test Models - definition"
   ]
  },
  {
   "cell_type": "code",
   "execution_count": 666,
   "metadata": {},
   "outputs": [],
   "source": [
    "from mxnet.gluon.nn import HybridSequential, Activation\n",
    "from mxnet.ndarray import array\n",
    "from mxnet.initializer import One, Uniform, Xavier\n",
    "from mxnet.gluon.loss import SigmoidBinaryCrossEntropyLoss\n",
    "\n",
    "def build_features(A, X):\n",
    "    hidden_layer_specs = [(4, 'tanh'), (2, 'tanh')] # Format: (units in layer, activation function)\n",
    "    in_units = in_units=X.shape[1]\n",
    "  \n",
    "    features = HybridSequential()\n",
    "    with features.name_scope():\n",
    "        for i, (layer_size, activation_func) in enumerate(hidden_layer_specs):\n",
    "            layer = SpectralRule(\n",
    "                A, in_units=in_units, out_units=layer_size, \n",
    "                activation=activation_func)\n",
    "            features.add(layer)\n",
    "\n",
    "            in_units = layer_size\n",
    "    return features, in_units\n",
    "\n",
    "def build_model(A, X):\n",
    "    model = HybridSequential()\n",
    "    hidden_layer_specs = [(4, 'tanh'), (2, 'tanh')]\n",
    "    in_units = in_units=X.shape[1]\n",
    "\n",
    "    with model.name_scope():\n",
    "        features, out_units = build_features(A, X)\n",
    "        model.add(features)\n",
    "\n",
    "        classifier = LogisticRegressor(out_units)\n",
    "        model.add(classifier)\n",
    "\n",
    "    model.hybridize()\n",
    "    model.initialize(Uniform(1))\n",
    "\n",
    "    return model, features"
   ]
  },
  {
   "cell_type": "code",
   "execution_count": 667,
   "metadata": {},
   "outputs": [
    {
     "name": "stdout",
     "output_type": "stream",
     "text": [
      "Wall time: 0 ns\n"
     ]
    }
   ],
   "source": [
    "%time\n",
    "from mxnet import autograd\n",
    "from mxnet.gluon import Trainer\n",
    "from mxnet.ndarray import sum as ndsum\n",
    "import numpy as np\n",
    "\n",
    "def train(model, features, X, X_train, y_train, epochs):\n",
    "    cross_entropy = SigmoidBinaryCrossEntropyLoss(from_sigmoid=True)\n",
    "    trainer = Trainer(model.collect_params(), 'sgd', {'learning_rate': 0.001, 'momentum': 1})\n",
    "\n",
    "    feature_representations = [features(X).asnumpy()]\n",
    "\n",
    "    for e in range(1, epochs + 1):\n",
    "        cum_loss = 0\n",
    "        cum_preds = []\n",
    "\n",
    "        for i, x in enumerate(X_train):\n",
    "            y = array(y_train)[i]\n",
    "            with autograd.record():\n",
    "                preds = model(X)[x]\n",
    "                loss = cross_entropy(preds, y)\n",
    "            loss.backward()\n",
    "            trainer.step(1)\n",
    "\n",
    "            cum_loss += loss.asscalar()\n",
    "            cum_preds += [preds.asscalar()]\n",
    "\n",
    "        feature_representations.append(features(X).asnumpy())\n",
    "            \n",
    "        if (e % (epochs//10)) == 0:\n",
    "            print(f\"Epoch {e}/{epochs} -- Loss: {cum_loss: .4f}\")\n",
    "            print(cum_preds)\n",
    "    return feature_representations\n",
    "\n",
    "def predict(model, X, nodes):\n",
    "    preds = model(X)[nodes].asnumpy().flatten()\n",
    "    return np.where(preds >= 0.5, 1, 0)"
   ]
  },
  {
   "cell_type": "markdown",
   "metadata": {},
   "source": [
    "### GCN Model 1: Shortest Path as extra feature"
   ]
  },
  {
   "cell_type": "code",
   "execution_count": 950,
   "metadata": {},
   "outputs": [],
   "source": [
    "X_2 = nd.zeros((A.shape[0], 2))"
   ]
  },
  {
   "cell_type": "code",
   "execution_count": 959,
   "metadata": {},
   "outputs": [],
   "source": [
    "node_distance_instructor = shortest_path_length(crm.network, target=96)\n",
    "node_distance_administrator = shortest_path_length(crm.network, target=0)\n",
    "for node in crm.network.nodes():\n",
    "    X_2[node][0] = node_distance_administrator[node]\n",
    "    X_2[node][1] = node_distance_instructor[node]"
   ]
  },
  {
   "cell_type": "code",
   "execution_count": 960,
   "metadata": {},
   "outputs": [],
   "source": [
    "model_2, features_2 = build_model(A, X_2)\n",
    "model_2r=model_2(X_2)"
   ]
  },
  {
   "cell_type": "code",
   "execution_count": 961,
   "metadata": {},
   "outputs": [
    {
     "name": "stdout",
     "output_type": "stream",
     "text": [
      "Epoch 50/500 -- Loss:  0.6258\n",
      "[0.6310028, 0.15243319]\n",
      "Epoch 100/500 -- Loss:  0.3223\n",
      "[0.737127, 0.017129071]\n",
      "Epoch 150/500 -- Loss:  0.0695\n",
      "[0.9379208, 0.005408126]\n",
      "Epoch 200/500 -- Loss:  0.0105\n",
      "[0.99198496, 0.002440066]\n",
      "Epoch 250/500 -- Loss:  0.0020\n",
      "[0.99913824, 0.0011382625]\n",
      "Epoch 300/500 -- Loss:  0.0006\n",
      "[0.9999175, 0.0005263915]\n",
      "Epoch 350/500 -- Loss:  0.0002\n",
      "[0.9999931, 0.00024166421]\n",
      "Epoch 400/500 -- Loss:  0.0001\n",
      "[0.9999995, 0.00011052925]\n",
      "Epoch 450/500 -- Loss:  0.0001\n",
      "[1.0, 5.0462248e-05]\n",
      "Epoch 500/500 -- Loss:  0.0000\n",
      "[1.0, 2.301928e-05]\n"
     ]
    }
   ],
   "source": [
    "feature_representations_2= train(model_2, features_2, X_2, X_train, y_train, epochs=500)\n",
    "y_pred_2 = predict(model_2, X_2, X_test)"
   ]
  },
  {
   "cell_type": "code",
   "execution_count": 962,
   "metadata": {},
   "outputs": [
    {
     "name": "stdout",
     "output_type": "stream",
     "text": [
      "[[189   0]\n",
      " [ 25 151]]\n",
      "              precision    recall  f1-score   support\n",
      "\n",
      "       False       0.88      1.00      0.94       189\n",
      "        True       1.00      0.86      0.92       176\n",
      "\n",
      "    accuracy                           0.93       365\n",
      "   macro avg       0.94      0.93      0.93       365\n",
      "weighted avg       0.94      0.93      0.93       365\n",
      "\n",
      "0.9315068493150684\n"
     ]
    }
   ],
   "source": [
    "print(confusion_matrix(y_test, y_pred_2))\n",
    "print(classification_report(y_test, y_pred_2))\n",
    "print(accuracy_score(y_test, y_pred_2))"
   ]
  },
  {
   "cell_type": "code",
   "execution_count": 963,
   "metadata": {},
   "outputs": [
    {
     "data": {
      "image/png": "[encoded data removed]",
      "text/plain": [
       "<Figure size 432x288 with 2 Axes>"
      ]
     },
     "metadata": {
      "needs_background": "light"
     },
     "output_type": "display_data"
    }
   ],
   "source": [
    "skplt.metrics.plot_confusion_matrix(y_test, y_pred_2, normalize=True)\n",
    "plt.show()"
   ]
  },
  {
   "cell_type": "code",
   "execution_count": 964,
   "metadata": {},
   "outputs": [
    {
     "data": {
      "image/png": "[encoded data removed]",
      "text/plain": [
       "<Figure size 432x288 with 1 Axes>"
      ]
     },
     "metadata": {
      "needs_background": "light"
     },
     "output_type": "display_data"
    }
   ],
   "source": [
    "m2_fpr, m2_tpr, _ = roc_curve(y_test, y_pred_2)\n",
    "roc_auc_m2 = roc_auc_score(y_test, y_pred_2)\n",
    "# plot the roc curve for the model\n",
    "#pyplot.plot(m1_fpr, m1_tpr, marker='.', label='GCN-M1 -- (area = %0.3f)' % roc_auc_m1)\n",
    "pyplot.plot(m2_fpr, m2_tpr, linestyle='--', label='GCN-M2 -- (area = %0.3f)' % roc_auc_m2)\n",
    "# axis labels\n",
    "pyplot.xlabel('False Positive Rate')\n",
    "pyplot.ylabel('True Positive Rate')\n",
    "# show the legend\n",
    "pyplot.legend()\n",
    "# show the plot\n",
    "pyplot.show()"
   ]
  },
  {
   "cell_type": "code",
   "execution_count": 965,
   "metadata": {},
   "outputs": [
    {
     "data": {
      "image/png": "[encoded data removed]",
      "text/plain": [
       "<Figure size 432x288 with 1 Axes>"
      ]
     },
     "metadata": {
      "needs_background": "light"
     },
     "output_type": "display_data"
    }
   ],
   "source": [
    "m2_pr, m2_re, thresholds = precision_recall_curve(y_test,y_pred_2)\n",
    "pr_auc_m2=auc(m2_re, m2_pr)\n",
    "pyplot.plot(m2_re, m2_pr, linestyle=':', label='GCN-M1 -- (area = %0.3f)' % pr_auc_m2)\n",
    "# axis labels\n",
    "pyplot.xlabel('Recall')\n",
    "pyplot.ylabel('Precision')\n",
    "# show the legend\n",
    "pyplot.legend()\n",
    "# show the plot\n",
    "pyplot.show()"
   ]
  },
  {
   "cell_type": "markdown",
   "metadata": {},
   "source": [
    "### GCN Model 2: eigenvector_centrality as extra feature"
   ]
  },
  {
   "cell_type": "code",
   "execution_count": 987,
   "metadata": {},
   "outputs": [],
   "source": [
    "from networkx import eigenvector_centrality, eigenvector_centrality_numpy\n",
    "node_eigenvector_centrality = eigenvector_centrality(crm.network)\n",
    "node_eigenvector_centrality_numpy=eigenvector_centrality_numpy(crm.network)"
   ]
  },
  {
   "cell_type": "code",
   "execution_count": 988,
   "metadata": {},
   "outputs": [],
   "source": [
    "X_4 = nd.zeros((A.shape[0], 2))\n",
    "for node in crm.network.nodes():\n",
    "    X_4[node][0] = node_eigenvector_centrality[node]\n",
    "    X_4[node][1] = node_eigenvector_centrality_numpy[node]\n",
    "#X_4 = nd.concat(X_1,X_3, X_4)\n",
    "model_4, features_4 = build_model(A, X_4)\n",
    "model_4r=model_4(X_4)"
   ]
  },
  {
   "cell_type": "code",
   "execution_count": 989,
   "metadata": {},
   "outputs": [
    {
     "name": "stdout",
     "output_type": "stream",
     "text": [
      "Epoch 500/5000 -- Loss:  1.5735\n",
      "[0.7051492, 0.7059928]\n",
      "Epoch 1000/5000 -- Loss:  1.5269\n",
      "[0.31744787, 0.31578764]\n",
      "Epoch 1500/5000 -- Loss:  1.4805\n",
      "[0.64526457, 0.64738595]\n",
      "Epoch 2000/5000 -- Loss:  1.4148\n",
      "[0.406495, 0.40229666]\n",
      "Epoch 2500/5000 -- Loss:  1.3860\n",
      "[0.53614104, 0.5335495]\n",
      "Epoch 3000/5000 -- Loss:  1.2704\n",
      "[0.5622748, 0.50074106]\n",
      "Epoch 3500/5000 -- Loss:  0.2114\n",
      "[0.83073175, 0.025588958]\n",
      "Epoch 4000/5000 -- Loss:  0.0004\n",
      "[1.0, 0.00040724396]\n",
      "Epoch 4500/5000 -- Loss:  0.0000\n",
      "[1.0, 4.1971056e-05]\n",
      "Epoch 5000/5000 -- Loss:  0.0001\n",
      "[1.0, 8.333011e-05]\n",
      "              precision    recall  f1-score   support\n",
      "\n",
      "       False       0.80      0.97      0.88       189\n",
      "        True       0.96      0.74      0.83       176\n",
      "\n",
      "    accuracy                           0.86       365\n",
      "   macro avg       0.88      0.85      0.85       365\n",
      "weighted avg       0.87      0.86      0.86       365\n",
      "\n"
     ]
    }
   ],
   "source": [
    "feature_representations_4= train(model_4, features_4, X_4, X_train, y_train, epochs=5000)\n",
    "y_pred_4 = predict(model_4, X_4, X_test)\n",
    "print(classification_report(y_test, y_pred_4))"
   ]
  },
  {
   "cell_type": "code",
   "execution_count": 990,
   "metadata": {},
   "outputs": [
    {
     "name": "stdout",
     "output_type": "stream",
     "text": [
      "[[183   6]\n",
      " [ 46 130]]\n"
     ]
    }
   ],
   "source": [
    "print(confusion_matrix(y_test, y_pred_4))"
   ]
  },
  {
   "cell_type": "code",
   "execution_count": 991,
   "metadata": {},
   "outputs": [
    {
     "data": {
      "image/png": "[encoded data removed]",
      "text/plain": [
       "<Figure size 432x288 with 2 Axes>"
      ]
     },
     "metadata": {
      "needs_background": "light"
     },
     "output_type": "display_data"
    }
   ],
   "source": [
    "skplt.metrics.plot_confusion_matrix(y_test, y_pred_4, normalize=True)\n",
    "plt.show()"
   ]
  },
  {
   "cell_type": "code",
   "execution_count": 992,
   "metadata": {},
   "outputs": [
    {
     "data": {
      "image/png": "[encoded data removed]",
      "text/plain": [
       "<Figure size 432x288 with 1 Axes>"
      ]
     },
     "metadata": {
      "needs_background": "light"
     },
     "output_type": "display_data"
    }
   ],
   "source": [
    "m3_fpr, m3_tpr, _ = roc_curve(y_test, y_pred_4)\n",
    "roc_auc_m3 = roc_auc_score(y_test, y_pred_4)\n",
    "# plot the roc curve for the model\n",
    "#pyplot.plot(m1_fpr, m1_tpr, marker='.', label='GCN-M1 -- (area = %0.3f)' % roc_auc_m1)\n",
    "pyplot.plot(m3_fpr, m3_tpr, linestyle='-.', label='GCN-M2 -- (area = %0.3f)' % roc_auc_m3)\n",
    "# axis labels\n",
    "pyplot.xlabel('False Positive Rate')\n",
    "pyplot.ylabel('True Positive Rate')\n",
    "# show the legend\n",
    "pyplot.legend()\n",
    "# show the plot\n",
    "pyplot.show()"
   ]
  },
  {
   "cell_type": "code",
   "execution_count": 993,
   "metadata": {},
   "outputs": [
    {
     "data": {
      "image/png": "[encoded data removed]",
      "text/plain": [
       "<Figure size 432x288 with 1 Axes>"
      ]
     },
     "metadata": {
      "needs_background": "light"
     },
     "output_type": "display_data"
    }
   ],
   "source": [
    "m3_pr, m3_re, thresholds = precision_recall_curve(y_test,y_pred_4)\n",
    "pr_auc_m3=auc(m3_re, m3_pr)\n",
    "pyplot.plot(m3_re, m3_pr, linestyle=':', label='GCN-M2 -- (area = %0.3f)' % pr_auc_m3)\n",
    "# axis labels\n",
    "pyplot.xlabel('Recall')\n",
    "pyplot.ylabel('Precision')\n",
    "# show the legend\n",
    "pyplot.legend()\n",
    "# show the plot\n",
    "pyplot.show()"
   ]
  },
  {
   "cell_type": "markdown",
   "metadata": {},
   "source": [
    "## All Models- ROC Curve"
   ]
  },
  {
   "cell_type": "code",
   "execution_count": 994,
   "metadata": {},
   "outputs": [
    {
     "data": {
      "image/png": "[encoded data removed]",
      "text/plain": [
       "<Figure size 640x480 with 1 Axes>"
      ]
     },
     "metadata": {
      "needs_background": "light"
     },
     "output_type": "display_data"
    }
   ],
   "source": [
    "from matplotlib.pyplot import figure\n",
    "figure(num=None, figsize=(8, 6), dpi=80)\n",
    "# plot the roc curve for the model\n",
    "pyplot.plot(rf_fpr, rf_tpr, linestyle='--', label='Random Forest -- (area = %0.3f)' % roc_auc_rf)\n",
    "pyplot.plot(ann_fpr, ann_tpr, linestyle='-', label='ANN -- (area = %0.3f)' % roc_auc_ann)\n",
    "pyplot.plot(cnn_fpr, cnn_tpr, linestyle=':', label='CNN -- (area = %0.3f)' % roc_auc_cnn)\n",
    "pyplot.plot(m2_fpr, m2_tpr, linestyle='-.', label='GCN-shortest path -- (area = %0.3f)' % roc_auc_m2)\n",
    "pyplot.plot(m3_fpr, m3_tpr, linestyle='--', label='GCN-eigenvector -- (area = %0.3f)' % roc_auc_m3)\n",
    "\n",
    "# axis labels\n",
    "pyplot.xlabel('False Positive Rate')\n",
    "pyplot.ylabel('True Positive Rate')\n",
    "# show the legend\n",
    "pyplot.legend()\n",
    "# show the plot\n",
    "pyplot.show()"
   ]
  },
  {
   "cell_type": "markdown",
   "metadata": {},
   "source": [
    "## All Models- PR - AUC Curve"
   ]
  },
  {
   "cell_type": "code",
   "execution_count": 995,
   "metadata": {},
   "outputs": [
    {
     "data": {
      "image/png": "[encoded data removed]",
      "text/plain": [
       "<Figure size 640x480 with 1 Axes>"
      ]
     },
     "metadata": {
      "needs_background": "light"
     },
     "output_type": "display_data"
    }
   ],
   "source": [
    "figure(num=None, figsize=(8, 6), dpi=80)\n",
    "\n",
    "pyplot.plot(rf_recall, rf_precision, linestyle='--', label='Random Forest -- (area = %0.3f)' % pr_auc_rf)\n",
    "pyplot.plot(ann_recall, ann_precision, linestyle='-.', label='ANN -- (area = %0.3f)' % pr_auc_ann)\n",
    "pyplot.plot(cnn_recall, cnn_precision, linestyle='--', label='CNN -- (area = %0.3f)' % pr_auc_cnn)\n",
    "pyplot.plot(m2_re, m2_pr, linestyle=':', label='GCN-Shortest Path -- (area = %0.3f)' % pr_auc_m2)\n",
    "pyplot.plot(m3_re, m3_pr, linestyle=':', label='GCN-eigenvector -- (area = %0.3f)' % pr_auc_m3)\n",
    "\n",
    "# axis labels\n",
    "pyplot.xlabel('Recall')\n",
    "pyplot.ylabel('Precision')\n",
    "# show the legend\n",
    "pyplot.legend()\n",
    "# show the plot\n",
    "pyplot.show()"
   ]
  },
  {
   "cell_type": "code",
   "execution_count": null,
   "metadata": {},
   "outputs": [],
   "source": []
  }
 ],
 "metadata": {
  "kernelspec": {
   "display_name": "Python 3",
   "language": "python",
   "name": "python3"
  },
  "language_info": {
   "codemirror_mode": {
    "name": "ipython",
    "version": 3
   },
   "file_extension": ".py",
   "mimetype": "text/x-python",
   "name": "python",
   "nbconvert_exporter": "python",
   "pygments_lexer": "ipython3",
   "version": "3.6.10"
  }
 },
 "nbformat": 4,
 "nbformat_minor": 4
}
